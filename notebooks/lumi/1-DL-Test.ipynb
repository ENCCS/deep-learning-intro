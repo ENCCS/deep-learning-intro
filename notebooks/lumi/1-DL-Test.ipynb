{
 "cells": [
  {
   "cell_type": "markdown",
   "id": "52bc9e48-51a2-4a98-b7ae-7cac6c66f2b9",
   "metadata": {},
   "source": [
    "# Environment"
   ]
  },
  {
   "cell_type": "code",
   "execution_count": 1,
   "id": "c2a2d471-ee61-4870-82f9-02d7e60a748b",
   "metadata": {},
   "outputs": [
    {
     "name": "stdout",
     "output_type": "stream",
     "text": [
      "/pfs/lustrep3/scratch/project_465001310/mohanana\n"
     ]
    }
   ],
   "source": [
    "!pwd"
   ]
  },
  {
   "cell_type": "code",
   "execution_count": 2,
   "id": "92e3b8e4-d2c4-4553-9deb-b1b0ab1a5158",
   "metadata": {},
   "outputs": [
    {
     "name": "stdout",
     "output_type": "stream",
     "text": [
      "nid007971\n"
     ]
    }
   ],
   "source": [
    "!echo $HOST"
   ]
  },
  {
   "cell_type": "code",
   "execution_count": 3,
   "id": "5050b7fb-cebf-4b11-beef-82a5d4181a4e",
   "metadata": {},
   "outputs": [
    {
     "name": "stdout",
     "output_type": "stream",
     "text": [
      "\n",
      "\n",
      "======================================= ROCm System Management Interface =======================================\n",
      "================================================= Concise Info =================================================\n",
      "Device  [Model : Revision]    Temp    Power  Partitions      SCLK    MCLK     Fan  Perf    PwrCap  VRAM%  GPU%  \n",
      "\u001b[3m        Name (20 chars)       (Edge)  (Avg)  (Mem, Compute)                                                     \u001b[0m\n",
      "================================================================================================================\n",
      "0       [0x0b0c : 0x00]       41.0°C  91.0W  N/A, N/A        800Mhz  1600Mhz  0%   manual  500.0W   98%   0%    \n",
      "        AMD INSTINCT MI200 (                                                                                    \n",
      "================================================================================================================\n",
      "============================================= End of ROCm SMI Log ==============================================\n"
     ]
    }
   ],
   "source": [
    "!rocm-smi"
   ]
  },
  {
   "cell_type": "markdown",
   "id": "3de53b51-23bf-4b07-9117-ed55579f3c61",
   "metadata": {},
   "source": [
    "# Test your installation"
   ]
  },
  {
   "cell_type": "code",
   "execution_count": 4,
   "id": "e74d3e81-594c-472d-a70b-61ee81ec2299",
   "metadata": {},
   "outputs": [
    {
     "name": "stderr",
     "output_type": "stream",
     "text": [
      "2025-05-05 21:37:49.652596: I tensorflow/core/platform/cpu_feature_guard.cc:182] This TensorFlow binary is optimized to use available CPU instructions in performance-critical operations.\n",
      "To enable the following instructions: AVX2 FMA, in other operations, rebuild TensorFlow with the appropriate compiler flags.\n"
     ]
    },
    {
     "data": {
      "text/plain": [
       "'2.14.0.600'"
      ]
     },
     "execution_count": 4,
     "metadata": {},
     "output_type": "execute_result"
    }
   ],
   "source": [
    "import tensorflow\n",
    "tensorflow.__version__"
   ]
  },
  {
   "cell_type": "code",
   "execution_count": 5,
   "id": "d59cbff1-fef6-4053-8af7-6f2192d010d8",
   "metadata": {},
   "outputs": [
    {
     "name": "stderr",
     "output_type": "stream",
     "text": [
      "/usr/share/libdrm/amdgpu.ids: No such file or directory\n"
     ]
    },
    {
     "data": {
      "text/plain": [
       "[PhysicalDevice(name='/physical_device:GPU:0', device_type='GPU')]"
      ]
     },
     "execution_count": 5,
     "metadata": {},
     "output_type": "execute_result"
    }
   ],
   "source": [
    "tensorflow.config.list_physical_devices('GPU')"
   ]
  },
  {
   "cell_type": "code",
   "execution_count": 6,
   "id": "fd227caa-dda0-4081-b1d5-d14fe566325e",
   "metadata": {},
   "outputs": [
    {
     "name": "stdout",
     "output_type": "stream",
     "text": [
      "sklearn version:  1.6.1\n",
      "seaborn version:  0.13.2\n",
      "pandas version:  2.2.3\n"
     ]
    }
   ],
   "source": [
    "import sklearn\n",
    "print('sklearn version: ', sklearn.__version__)\n",
    "\n",
    "import seaborn\n",
    "print('seaborn version: ', seaborn.__version__)\n",
    "\n",
    "import pandas\n",
    "print('pandas version: ', pandas.__version__)\n",
    "\n",
    "import tensorflow\n",
    "print('Tensorflow version: ', tensorflow.__version__)"
   ]
  }
 ],
 "metadata": {
  "kernelspec": {
   "display_name": "Python 3 (ipykernel)",
   "language": "python",
   "name": "python3"
  },
  "language_info": {
   "codemirror_mode": {
    "name": "ipython",
    "version": 3
   },
   "file_extension": ".py",
   "mimetype": "text/x-python",
   "name": "python",
   "nbconvert_exporter": "python",
   "pygments_lexer": "ipython3",
   "version": "3.11.12"
  }
 },
 "nbformat": 4,
 "nbformat_minor": 5
}
