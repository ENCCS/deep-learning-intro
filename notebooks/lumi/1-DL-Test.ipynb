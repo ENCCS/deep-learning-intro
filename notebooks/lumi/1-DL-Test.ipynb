{
 "cells": [
  {
   "cell_type": "markdown",
   "id": "a4076c61-0f29-4183-895d-4fce59087675",
   "metadata": {},
   "source": [
    "# Environment"
   ]
  },
  {
   "cell_type": "code",
   "execution_count": 13,
   "id": "262256ea-acf4-4c4d-b6b3-b1a5fdb46792",
   "metadata": {},
   "outputs": [
    {
     "name": "stdout",
     "output_type": "stream",
     "text": [
      "/pfs/lustrep3/projappl/project_465001310/Intro-DL\n"
     ]
    }
   ],
   "source": [
    "!pwd"
   ]
  },
  {
   "cell_type": "code",
   "execution_count": 14,
   "id": "42d1ab4e-db00-481d-b131-e87719df69ff",
   "metadata": {},
   "outputs": [
    {
     "name": "stdout",
     "output_type": "stream",
     "text": [
      "nid007971\n"
     ]
    }
   ],
   "source": [
    "!echo $HOST"
   ]
  },
  {
   "cell_type": "code",
   "execution_count": 15,
   "id": "433fed39-73a7-412e-bef7-8df6b205f04d",
   "metadata": {},
   "outputs": [
    {
     "name": "stdout",
     "output_type": "stream",
     "text": [
      "\n",
      "\n",
      "======================================= ROCm System Management Interface =======================================\n",
      "================================================= Concise Info =================================================\n",
      "Device  [Model : Revision]    Temp    Power  Partitions      SCLK    MCLK     Fan  Perf    PwrCap  VRAM%  GPU%  \n",
      "\u001b[3m        Name (20 chars)       (Edge)  (Avg)  (Mem, Compute)                                                     \u001b[0m\n",
      "================================================================================================================\n",
      "0       [0x0b0c : 0x00]       43.0°C  92.0W  N/A, N/A        800Mhz  1600Mhz  0%   manual  500.0W    0%   0%    \n",
      "        AMD INSTINCT MI200 (                                                                                    \n",
      "================================================================================================================\n",
      "============================================= End of ROCm SMI Log ==============================================\n"
     ]
    }
   ],
   "source": [
    "!rocm-smi"
   ]
  },
  {
   "cell_type": "markdown",
   "id": "fa6b18e4-1b85-4ca4-b8f8-eb5ac36071ea",
   "metadata": {},
   "source": [
    "# Import modules and test installations"
   ]
  },
  {
   "cell_type": "code",
   "execution_count": 16,
   "id": "e785225e-7159-48f3-9752-dde58c120dbf",
   "metadata": {},
   "outputs": [],
   "source": [
    "import os\n",
    "# Limit log messages from Tensorflow\n",
    "# 0 = all messages are logged (default behavior)\n",
    "# 1 = INFO messages are not printed\n",
    "# 2 = INFO and WARNING messages are not printed\n",
    "# 3 = INFO, WARNING, and ERROR messages are not printed\n",
    "os.environ['TF_CPP_MIN_LOG_LEVEL'] = '1' "
   ]
  },
  {
   "cell_type": "code",
   "execution_count": 22,
   "id": "032de556-0f00-4fbd-b798-cf959067430d",
   "metadata": {},
   "outputs": [
    {
     "name": "stdout",
     "output_type": "stream",
     "text": [
      "seaborn version:     0.13.2\n",
      "pandas version:      2.2.3\n",
      "sklearn version:     1.6.1\n",
      "keras version:       2.14.0\n",
      "Tensorflow version:  2.14.0.600\n"
     ]
    }
   ],
   "source": [
    "import numpy as np\n",
    "import matplotlib.pyplot as plt\n",
    "import pandas as pd\n",
    "import seaborn as sns\n",
    "\n",
    "import sklearn\n",
    "import tensorflow\n",
    "import keras\n",
    "\n",
    "print('seaborn version:    ', sns.__version__)\n",
    "print('pandas version:     ', pd.__version__)\n",
    "print('sklearn version:    ', sklearn.__version__)\n",
    "print('keras version:      ', keras.__version__)\n",
    "print('Tensorflow version: ', tensorflow.__version__)"
   ]
  },
  {
   "cell_type": "code",
   "execution_count": 18,
   "id": "30048a9a-4ab6-49f3-ac74-bc8451111f40",
   "metadata": {},
   "outputs": [
    {
     "name": "stdout",
     "output_type": "stream",
     "text": [
      "[PhysicalDevice(name='/physical_device:GPU:0', device_type='GPU')]\n",
      "Num GPUs Available:  1\n"
     ]
    }
   ],
   "source": [
    "# print GPU info\n",
    "\n",
    "print(tensorflow.config.list_physical_devices('GPU'))\n",
    "\n",
    "print(\"Num GPUs Available: \", len(tensorflow.config.list_physical_devices('GPU')))"
   ]
  },
  {
   "cell_type": "markdown",
   "id": "6b223b8a-9a88-4c51-a4a2-68b172bcd247",
   "metadata": {},
   "source": [
    "# Clone files to current directory"
   ]
  },
  {
   "cell_type": "code",
   "execution_count": 19,
   "id": "593d94ff-1508-45f7-92ba-845afbbb7912",
   "metadata": {},
   "outputs": [],
   "source": [
    "# cd <current-path>  # what you get from the first command `!pwd`\n",
    "\n",
    "# git clone https://github.com/ENCCS/deep-learning-intro.git"
   ]
  },
  {
   "cell_type": "markdown",
   "id": "beac55a2-a13a-4fc8-ad78-a70fc17bc8fd",
   "metadata": {},
   "source": [
    "# Download, unzip and upload"
   ]
  },
  {
   "cell_type": "markdown",
   "id": "57bbabfe-1a01-44c8-8c21-d5a58af05ec5",
   "metadata": {},
   "source": [
    "- Download ZIP files: https://github.com/ENCCS/deep-learning-intro/tree/sphinx\n",
    "- Unzip the `xxx.zip` file\n",
    "- Find Jupyter notebooks and upload them to the current directory"
   ]
  }
 ],
 "metadata": {
  "kernelspec": {
   "display_name": "Python 3 (ipykernel)",
   "language": "python",
   "name": "python3"
  },
  "language_info": {
   "codemirror_mode": {
    "name": "ipython",
    "version": 3
   },
   "file_extension": ".py",
   "mimetype": "text/x-python",
   "name": "python",
   "nbconvert_exporter": "python",
   "pygments_lexer": "ipython3",
   "version": "3.11.12"
  }
 },
 "nbformat": 4,
 "nbformat_minor": 5
}
