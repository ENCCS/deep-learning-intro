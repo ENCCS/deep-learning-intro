{
 "cells": [
  {
   "cell_type": "markdown",
   "id": "531df2a4-63a5-4802-9c1a-e2e0589783db",
   "metadata": {},
   "source": [
    "# Transfer learning"
   ]
  },
  {
   "cell_type": "markdown",
   "id": "7b25684a-f6a0-4f59-9931-f27b9a7f058b",
   "metadata": {},
   "source": [
    "## 0. Import packages and modules"
   ]
  },
  {
   "cell_type": "code",
   "execution_count": 1,
   "id": "1a371cf7-f758-47aa-813b-b692d44fc81a",
   "metadata": {},
   "outputs": [],
   "source": [
    "import os\n",
    "# Limit log messages from Tensorflow\n",
    "# 0 = all messages are logged (default behavior)\n",
    "# 1 = INFO messages are not printed\n",
    "# 2 = INFO and WARNING messages are not printed\n",
    "# 3 = INFO, WARNING, and ERROR messages are not printed\n",
    "os.environ['TF_CPP_MIN_LOG_LEVEL'] = '1' "
   ]
  },
  {
   "cell_type": "code",
   "execution_count": 2,
   "id": "b6443f13-2d7a-448d-a835-73084d258694",
   "metadata": {},
   "outputs": [
    {
     "name": "stdout",
     "output_type": "stream",
     "text": [
      "1.6.1\n",
      "2.18.1\n",
      "3.9.2\n"
     ]
    }
   ],
   "source": [
    "import numpy as np\n",
    "import matplotlib.pyplot as plt\n",
    "import pandas as pd\n",
    "import seaborn as sns\n",
    "\n",
    "import pathlib\n",
    "\n",
    "import sklearn\n",
    "import tensorflow\n",
    "import keras\n",
    "\n",
    "print(sklearn.__version__)\n",
    "print(tensorflow.__version__)\n",
    "print(keras.__version__)"
   ]
  },
  {
   "cell_type": "code",
   "execution_count": 3,
   "id": "85742674-a0f8-469d-95fa-c0c0cef3d2b7",
   "metadata": {},
   "outputs": [
    {
     "name": "stdout",
     "output_type": "stream",
     "text": [
      "[PhysicalDevice(name='/physical_device:GPU:0', device_type='GPU')]\n",
      "Num GPUs Available:  1\n"
     ]
    }
   ],
   "source": [
    "# print GPU info\n",
    "\n",
    "print(tensorflow.config.list_physical_devices('GPU'))\n",
    "\n",
    "print(\"Num GPUs Available: \", len(tensorflow.config.list_physical_devices('GPU')))"
   ]
  },
  {
   "cell_type": "markdown",
   "id": "b2606c20-f7c1-4a31-9dc9-15cca6ba2fed",
   "metadata": {},
   "source": [
    "## 1. Formulate / Outline the problem: Image classification"
   ]
  },
  {
   "cell_type": "code",
   "execution_count": 4,
   "id": "f4da1125-5c69-4280-930a-e872105199be",
   "metadata": {},
   "outputs": [],
   "source": [
    "DATA_FOLDER = pathlib.Path('/scratch/project_465001310/env-deep-learning-intro/data/dataset_dollarstreet/') # change to location where you stored the data\n",
    "train_images = np.load(DATA_FOLDER / 'train_images.npy')\n",
    "val_images = np.load(DATA_FOLDER / 'test_images.npy')\n",
    "train_labels = np.load(DATA_FOLDER / 'train_labels.npy')\n",
    "val_labels = np.load(DATA_FOLDER / 'test_labels.npy')"
   ]
  },
  {
   "cell_type": "markdown",
   "id": "4f331890-b4d2-40b0-b661-97a8a024a264",
   "metadata": {},
   "source": [
    "## 2. Identify inputs and outputs"
   ]
  },
  {
   "cell_type": "markdown",
   "id": "16a188e0-c42a-445a-a423-3fb12ce0f49e",
   "metadata": {},
   "source": [
    "## 3. Prepare the data"
   ]
  },
  {
   "cell_type": "code",
   "execution_count": 5,
   "id": "bd364df8-ec9d-4ae4-b7c1-0800a86a2b2b",
   "metadata": {},
   "outputs": [],
   "source": [
    "train_images = train_images / 255.0\n",
    "val_images = val_images / 255.0"
   ]
  },
  {
   "cell_type": "markdown",
   "id": "984e7f5b-e359-440d-bb6a-3853199d9382",
   "metadata": {},
   "source": [
    "## 4. Choose a pre-trained model or start building architecture from scratch"
   ]
  },
  {
   "cell_type": "code",
   "execution_count": 6,
   "id": "6cb39cd1-1b8d-4097-8238-24b585882858",
   "metadata": {},
   "outputs": [],
   "source": [
    "# input tensor\n",
    "inputs = keras.Input(train_images.shape[1:])"
   ]
  },
  {
   "cell_type": "code",
   "execution_count": 8,
   "id": "b34047a9-a9d5-424a-ada0-9deebcd03a7d",
   "metadata": {},
   "outputs": [],
   "source": [
    "# upscale layer\n",
    "import tensorflow as tf\n",
    "\n",
    "method = tf.image.ResizeMethod.BILINEAR\n",
    "upscale = keras.layers.Lambda(\n",
    "  lambda x: tf.image.resize_with_pad(x, 160, 160, method=method))(inputs)"
   ]
  },
  {
   "cell_type": "code",
   "execution_count": 9,
   "id": "c2c58d05-9dea-438b-a255-1c464e3a58aa",
   "metadata": {},
   "outputs": [
    {
     "name": "stderr",
     "output_type": "stream",
     "text": [
      "WARNING: All log messages before absl::InitializeLog() is called are written to STDERR\n",
      "I0000 00:00:1746569456.776149   56452 gpu_device.cc:2022] Created device /job:localhost/replica:0/task:0/device:GPU:0 with 63718 MB memory:  -> device: 0, name: AMD Instinct MI250X, pci bus id: 0000:d9:00.0\n"
     ]
    },
    {
     "name": "stdout",
     "output_type": "stream",
     "text": [
      "Downloading data from https://storage.googleapis.com/tensorflow/keras-applications/densenet/densenet121_weights_tf_dim_ordering_tf_kernels_notop.h5\n",
      "\u001b[1m29084464/29084464\u001b[0m \u001b[32m━━━━━━━━━━━━━━━━━━━━\u001b[0m\u001b[37m\u001b[0m \u001b[1m1s\u001b[0m 0us/step\n"
     ]
    }
   ],
   "source": [
    "base_model = keras.applications.DenseNet121(include_top=False,\n",
    "                                            pooling='max',\n",
    "                                            weights='imagenet',\n",
    "                                            input_tensor=upscale,\n",
    "                                            input_shape=(160,160,3),\n",
    "                                            )"
   ]
  },
  {
   "cell_type": "markdown",
   "id": "8b8da269-85a2-4dd3-b6e3-1157d256b841",
   "metadata": {},
   "source": [
    "### Only train a ‘head’ network"
   ]
  },
  {
   "cell_type": "code",
   "execution_count": 10,
   "id": "cb9b1fca-975a-4f8e-9789-7722417cfdfe",
   "metadata": {},
   "outputs": [],
   "source": [
    "base_model.trainable = False"
   ]
  },
  {
   "cell_type": "code",
   "execution_count": 11,
   "id": "74887494-ce8e-402a-93a9-efa243d56282",
   "metadata": {},
   "outputs": [],
   "source": [
    "out = base_model.output\n",
    "out = keras.layers.Flatten()(out)\n",
    "out = keras.layers.BatchNormalization()(out)\n",
    "out = keras.layers.Dense(50, activation='relu')(out)\n",
    "out = keras.layers.Dropout(0.5)(out)\n",
    "out = keras.layers.Dense(10)(out)"
   ]
  },
  {
   "cell_type": "code",
   "execution_count": 12,
   "id": "655b31e9-622a-4ca7-9129-116ff77d8609",
   "metadata": {},
   "outputs": [],
   "source": [
    "model = keras.models.Model(inputs=inputs, outputs=out)"
   ]
  },
  {
   "cell_type": "markdown",
   "id": "cb488822-0233-47ba-82b3-f16763216f20",
   "metadata": {},
   "source": [
    "## Exercise"
   ]
  },
  {
   "cell_type": "markdown",
   "id": "0fec8d56-7e66-4f55-b0e7-450e7b726e15",
   "metadata": {},
   "source": [
    "### Replace all `TODO`"
   ]
  },
  {
   "cell_type": "code",
   "execution_count": null,
   "id": "5227389b-4259-4134-8f32-783510965373",
   "metadata": {},
   "outputs": [],
   "source": [
    "# compile the model\n",
    "model.compile(optimizer=...,  # TODO: string\n",
    "              loss=...,  # TODO: loss function class from keras.losses module\n",
    "              metrics=['accuracy'])\n"
   ]
  },
  {
   "cell_type": "code",
   "execution_count": null,
   "id": "7de8dd42-0a7f-444e-a0d9-5eaee466a2e9",
   "metadata": {},
   "outputs": [],
   "source": [
    "# train the model\n",
    "early_stopper = ...  # TODO: earlystopper class from keras.callbacks module with a patience of 5\n",
    "\n",
    "history = model.fit(x=train_images,\n",
    "                    y=train_labels,\n",
    "                    batch_size=...,  # TODO: int\n",
    "                    epochs=...,  # TODO: int\n",
    "                    callbacks=[early_stopper],\n",
    "                    validation_data=(val_images, val_labels))"
   ]
  },
  {
   "cell_type": "code",
   "execution_count": null,
   "id": "da355130-8f41-4544-800f-0f235d5cb5b9",
   "metadata": {},
   "outputs": [],
   "source": [
    "# inspect the results\n",
    "\n",
    "def plot_history(history, metrics):\n",
    "    \"\"\"\n",
    "    Plot the training history\n",
    "\n",
    "    Args:\n",
    "        history (keras History object that is returned by model.fit())\n",
    "        metrics(str, list): Metric or a list of metrics to plot\n",
    "    \"\"\"\n",
    "    history_df = pd.DataFrame.from_dict(history.history)\n",
    "    sns.lineplot(data=history_df[metrics])\n",
    "    plt.xlabel(\"epochs\")\n",
    "    plt.ylabel(\"metric\")\n",
    "\n",
    "plot_history(history, [..., ...]) # TODO: choose the metric"
   ]
  },
  {
   "cell_type": "markdown",
   "id": "082d4b22-8bf5-4bb6-8681-f601481dbe8a",
   "metadata": {},
   "source": [
    "## Conclusion"
   ]
  },
  {
   "cell_type": "code",
   "execution_count": null,
   "id": "0d2b5eb7-477d-4046-8701-400b1108ecc4",
   "metadata": {},
   "outputs": [],
   "source": []
  }
 ],
 "metadata": {
  "kernelspec": {
   "display_name": "Python 3 (ipykernel)",
   "language": "python",
   "name": "python3"
  },
  "language_info": {
   "codemirror_mode": {
    "name": "ipython",
    "version": 3
   },
   "file_extension": ".py",
   "mimetype": "text/x-python",
   "name": "python",
   "nbconvert_exporter": "python",
   "pygments_lexer": "ipython3",
   "version": "3.10.9"
  }
 },
 "nbformat": 4,
 "nbformat_minor": 5
}
