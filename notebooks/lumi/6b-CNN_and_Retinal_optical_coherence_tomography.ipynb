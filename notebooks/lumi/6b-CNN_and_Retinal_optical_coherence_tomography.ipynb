{
 "cells": [
  {
   "cell_type": "markdown",
   "metadata": {},
   "source": [
    "# CNN and Retinal optical coherence tomography\n",
    "*Credits: Elena Paraschiv, NCC Romania* "
   ]
  },
  {
   "cell_type": "markdown",
   "metadata": {
    "id": "8omZ-3nBXgdA"
   },
   "source": [
    "We could download the dataset from Kaggle using `kagglehub`, \n",
    "```\n",
    "import kagglehub\n",
    "paultimothymooney_kermany2018_path = kagglehub.dataset_download('paultimothymooney/kermany2018')\n",
    "```\n",
    "or alternatively download manually and extract the [zip file](https://www.kaggle.com/api/v1/datasets/download/paultimothymooney/kermany2018?dataset_version_number=2). In LUMI, we have done the latter already.\n"
   ]
  },
  {
   "cell_type": "code",
   "execution_count": 1,
   "metadata": {
    "colab": {
     "base_uri": "https://localhost:8080/"
    },
    "id": "fDucK0h-lcST",
    "outputId": "f0830c70-1df8-421c-c677-7ab975929715"
   },
   "outputs": [],
   "source": [
    "paultimothymooney_kermany2018_path = '/scratch/project_465001310/env-deep-learning-intro/data/paultimothymooney_kermany2018/'"
   ]
  },
  {
   "cell_type": "markdown",
   "metadata": {
    "id": "HYTW5Ca8XkdZ"
   },
   "source": [
    "Let's see where the dataset has been downloaded."
   ]
  },
  {
   "cell_type": "code",
   "execution_count": 2,
   "metadata": {
    "colab": {
     "base_uri": "https://localhost:8080/"
    },
    "id": "_83xy6VTnaGK",
    "outputId": "0cf66ad5-1500-43da-ee9f-dc9b86c30b79"
   },
   "outputs": [
    {
     "name": "stdout",
     "output_type": "stream",
     "text": [
      "/scratch/project_465001310/env-deep-learning-intro/data/paultimothymooney_kermany2018/\n"
     ]
    },
    {
     "data": {
      "text/plain": [
       "['oct2017', 'OCT2017 ']"
      ]
     },
     "execution_count": 2,
     "metadata": {},
     "output_type": "execute_result"
    }
   ],
   "source": [
    "import os\n",
    "\n",
    "# Print to verify structure\n",
    "print(paultimothymooney_kermany2018_path)\n",
    "os.listdir(paultimothymooney_kermany2018_path)"
   ]
  },
  {
   "cell_type": "markdown",
   "metadata": {
    "id": "ypmYHQEsXo2N"
   },
   "source": [
    "Import the necessary libraries"
   ]
  },
  {
   "cell_type": "code",
   "execution_count": 3,
   "metadata": {},
   "outputs": [],
   "source": [
    "import os\n",
    "# Limit log messages from Tensorflow\n",
    "# 0 = all messages are logged (default behavior)\n",
    "# 1 = INFO messages are not printed\n",
    "# 2 = INFO and WARNING messages are not printed\n",
    "# 3 = INFO, WARNING, and ERROR messages are not printed\n",
    "os.environ['TF_CPP_MIN_LOG_LEVEL'] = '1' "
   ]
  },
  {
   "cell_type": "code",
   "execution_count": 4,
   "metadata": {
    "id": "svaYYV_klcSU"
   },
   "outputs": [],
   "source": [
    "# Import required libraries\n",
    "import os\n",
    "import numpy as np\n",
    "import pandas as pd\n",
    "import matplotlib.pyplot as plt\n",
    "import seaborn as sns\n",
    "import tensorflow as tf\n",
    "from tensorflow.keras.preprocessing.image import ImageDataGenerator\n",
    "from sklearn.metrics import classification_report, confusion_matrix, roc_curve, auc\n",
    "from sklearn.preprocessing import label_binarize"
   ]
  },
  {
   "cell_type": "code",
   "execution_count": 5,
   "metadata": {
    "id": "OIe8bW9QlcSU"
   },
   "outputs": [],
   "source": [
    "# Remove any extra spaces in folder names\n",
    "train_path = os.path.join(paultimothymooney_kermany2018_path, 'OCT2017 /train')\n",
    "test_path = os.path.join(paultimothymooney_kermany2018_path, 'OCT2017 /test')\n",
    "val_path = os.path.join(paultimothymooney_kermany2018_path, 'OCT2017 /val')"
   ]
  },
  {
   "cell_type": "code",
   "execution_count": 6,
   "metadata": {
    "id": "T_R58FDxlcSU"
   },
   "outputs": [],
   "source": [
    "categories = ['CNV', 'DME', 'DRUSEN', 'NORMAL']\n",
    "\n",
    "# EDA: Count number of images per category in each set\n",
    "def count_images_in_directory(directory):\n",
    "    category_count = {}\n",
    "    for category in categories:\n",
    "        category_path = os.path.join(directory, category)\n",
    "        category_count[category] = len(os.listdir(category_path))\n",
    "    return category_count\n",
    "\n",
    "# Get image distribution for train, validation, and test sets\n",
    "train_distribution = count_images_in_directory(train_path)\n",
    "test_distribution = count_images_in_directory(test_path)\n",
    "val_distribution = count_images_in_directory(val_path)"
   ]
  },
  {
   "cell_type": "markdown",
   "metadata": {
    "id": "u1s6CCabYPkq"
   },
   "source": [
    "1. What Is Class Imbalance?\n",
    "🔍 Definition:\n",
    "Class imbalance happens when some categories in your dataset have many more samples than others.\n",
    "\n",
    "\n",
    "If you look at the distribution of OCT images (via bar charts), you might see:\n",
    "\n",
    "\n",
    "\n",
    "*   37,000 CNV images\n",
    "*   3,000 DRUSEN images\n",
    "*   11,000 DME images\n",
    "*   26,000 NORMAL images\n",
    "\n",
    "So:\n",
    "\n",
    "CNV and NORMAL are majority classes\n",
    "\n",
    "DRUSEN is a minority class\n",
    "\n",
    "2. Why Is Class Imbalance a Problem?\n",
    "\n",
    " From the model's point of view:\n",
    "A CNN is trained to minimize error. If CNV appears more often, the model learns to prioritize CNV — even when it sees DRUSEN or DME.\n",
    "\n",
    "  What this means in diagnosis:\n",
    "A model may misdiagnose DRUSEN as CNV or NORMAL — simply because it wasn’t trained with enough DRUSEN examples.\n",
    "\n",
    "**In healthcare, false negatives (missing a disease) can be dangerous.**\n",
    "\n",
    "3. Imagine you train a medical student with 100 patients — 80 have CNV, only 5 have DRUSEN.\n",
    "They become great at spotting CNV, but they miss DRUSEN cases because they rarely see them.\n",
    "\n",
    "This is class imbalance in real life — and we must correct for it.\n",
    "\n",
    "4. How to handle class imbalance:\n",
    "\n",
    "  1.  Data Augmentation for Minority Classes: ImageDataGenerator is already used for real-time augmentation.\n",
    "\n",
    "This can help artificially boost the presence of DRUSEN and DME images by creating slightly modified copies (rotated, zoomed, flipped).\n",
    "\n",
    "Example:\n",
    "\n",
    "\n",
    "\n",
    "```\n",
    "train_datagen = ImageDataGenerator(rescale=1./255,\n",
    "    rotation_range=10,\n",
    "    zoom_range=0.2,\n",
    "    width_shift_range=0.2,\n",
    "    height_shift_range=0.2,\n",
    "    horizontal_flip=True)\n",
    "```\n",
    "\n",
    "\n",
    "\n",
    "✅ Best for image datasets. Prevents overfitting and balances class exposure.\n",
    "\n",
    "  2. Class Weights (Model Penalization): You can tell the model to pay more attention to underrepresented classes.\n",
    "\n",
    "Add class_weight in model.fit() like:\n",
    "\n",
    "\n",
    "\n",
    "```\n",
    "class_weights = {\n",
    "    0: 1.0,  # CNV\n",
    "    1: 1.0,  # DME\n",
    "    2: 2.5,  # DRUSEN (boosted)\n",
    "    3: 1.0   # NORMAL\n",
    "}\n",
    "```\n",
    "\n",
    "```\n",
    "model.fit(train_generator,\n",
    "          validation_data=val_generator,\n",
    "          epochs=10,\n",
    "          class_weight=class_weights)\n",
    "\n",
    "```\n",
    "\n",
    "✅ Helps the model treat minority classes seriously.\n"
   ]
  },
  {
   "cell_type": "code",
   "execution_count": 7,
   "metadata": {
    "colab": {
     "base_uri": "https://localhost:8080/"
    },
    "id": "BFk21fYzoEC8",
    "outputId": "952b00f3-16a3-4237-fff1-812c8e8e4f38"
   },
   "outputs": [
    {
     "name": "stdout",
     "output_type": "stream",
     "text": [
      "Train set distribution: {'CNV': 37205, 'DME': 11348, 'DRUSEN': 8616, 'NORMAL': 26315}\n",
      "Validation set distribution: {'CNV': 8, 'DME': 8, 'DRUSEN': 8, 'NORMAL': 8}\n",
      "Test set distribution: {'CNV': 242, 'DME': 242, 'DRUSEN': 242, 'NORMAL': 242}\n"
     ]
    }
   ],
   "source": [
    "import os\n",
    "\n",
    "categories = ['CNV', 'DME', 'DRUSEN', 'NORMAL']\n",
    "\n",
    "# Function to count images in a given directory\n",
    "def count_images_in_directory(directory):\n",
    "    category_count = {}\n",
    "    for category in categories:\n",
    "        category_path = os.path.join(directory, category)\n",
    "        if os.path.exists(category_path):\n",
    "            category_count[category] = len(os.listdir(category_path))\n",
    "        else:\n",
    "            category_count[category] = 0  # If folder is missing\n",
    "    return category_count\n",
    "\n",
    "# Run counts\n",
    "train_distribution = count_images_in_directory(train_path)\n",
    "val_distribution = count_images_in_directory(val_path)\n",
    "test_distribution = count_images_in_directory(test_path)\n",
    "\n",
    "# Display results\n",
    "print(\"Train set distribution:\", train_distribution)\n",
    "print(\"Validation set distribution:\", val_distribution)\n",
    "print(\"Test set distribution:\", test_distribution)"
   ]
  },
  {
   "cell_type": "code",
   "execution_count": 8,
   "metadata": {
    "colab": {
     "base_uri": "https://localhost:8080/",
     "height": 713
    },
    "id": "sN9XdhD0lcSU",
    "outputId": "25b34c58-2547-4e18-d2cd-000375e15cd3"
   },
   "outputs": [
    {
     "name": "stderr",
     "output_type": "stream",
     "text": [
      "/tmp/ipykernel_99395/2367306795.py:6: FutureWarning: \n",
      "\n",
      "Passing `palette` without assigning `hue` is deprecated and will be removed in v0.14.0. Assign the `x` variable to `hue` and set `legend=False` for the same effect.\n",
      "\n",
      "  sns.barplot(x=list(train_distribution.keys()), y=list(train_distribution.values()), palette=\"Blues\")\n",
      "/tmp/ipykernel_99395/2367306795.py:12: FutureWarning: \n",
      "\n",
      "Passing `palette` without assigning `hue` is deprecated and will be removed in v0.14.0. Assign the `x` variable to `hue` and set `legend=False` for the same effect.\n",
      "\n",
      "  sns.barplot(x=list(val_distribution.keys()), y=list(val_distribution.values()), palette=\"Greens\")\n",
      "/tmp/ipykernel_99395/2367306795.py:17: FutureWarning: \n",
      "\n",
      "Passing `palette` without assigning `hue` is deprecated and will be removed in v0.14.0. Assign the `x` variable to `hue` and set `legend=False` for the same effect.\n",
      "\n",
      "  sns.barplot(x=list(test_distribution.keys()), y=list(test_distribution.values()), palette=\"Reds\")\n"
     ]
    },
    {
     "data": {
      "image/png": "[encoded data removed]",
      "text/plain": [
       "<Figure size 1600x500 with 3 Axes>"
      ]
     },
     "metadata": {},
     "output_type": "display_data"
    }
   ],
   "source": [
    "# Plot the distribution of images across categories for train, validation, and test sets\n",
    "def plot_class_distribution():\n",
    "    plt.figure(figsize=(16, 5))\n",
    "\n",
    "    plt.subplot(1, 3, 1)\n",
    "    sns.barplot(x=list(train_distribution.keys()), y=list(train_distribution.values()), palette=\"Blues\")\n",
    "    plt.title(\"Training Set Distribution\")\n",
    "    plt.xlabel(\"Categories\")\n",
    "    plt.ylabel(\"Number of Images\")\n",
    "\n",
    "    plt.subplot(1, 3, 2)\n",
    "    sns.barplot(x=list(val_distribution.keys()), y=list(val_distribution.values()), palette=\"Greens\")\n",
    "    plt.title(\"Validation Set Distribution\")\n",
    "    plt.xlabel(\"Categories\")\n",
    "\n",
    "    plt.subplot(1, 3, 3)\n",
    "    sns.barplot(x=list(test_distribution.keys()), y=list(test_distribution.values()), palette=\"Reds\")\n",
    "    plt.title(\"Test Set Distribution\")\n",
    "    plt.xlabel(\"Categories\")\n",
    "\n",
    "    plt.tight_layout()\n",
    "    plt.show()\n",
    "\n",
    "# Display class distribution plots\n",
    "plot_class_distribution()"
   ]
  },
  {
   "cell_type": "code",
   "execution_count": 9,
   "metadata": {
    "id": "nycT7hF3lcSU"
   },
   "outputs": [],
   "source": [
    "# Image preprocessing using ImageDataGenerator\n",
    "img_size = (128, 128)\n",
    "batch_size = 32"
   ]
  },
  {
   "cell_type": "markdown",
   "metadata": {
    "id": "KjELLsvFbsCf"
   },
   "source": [
    "**What is a Batch?** When we train a deep learning model, we don’t give it all the data at once. Instead, we break the data into smaller groups called batches.\n",
    "\n",
    "A batch is a small subset of the dataset that the model processes before updating its weights.\n",
    "\n",
    "📊 Example:\n",
    "Let’s say your training set has 10,000 retinal OCT images, and your batch_size is 32.\n",
    "\n",
    "Instead of training on all 10,000 images at once (which would be slow and require lots of memory), the model takes:\n",
    "\n",
    "Batch 1: 32 images\n",
    "\n",
    "Batch 2: next 32 images\n",
    "\n",
    "...\n",
    "\n",
    "This continues until all images have been seen once = 1 epoch.\n",
    "\n",
    "So, for one full training cycle (epoch):\n",
    "\n",
    "10,000 / 32 = 312.5 batches (the model will process ~313 batches per epoch)\n",
    "\n",
    "**Why use batches instead of all data?**\n",
    "\n",
    "  1. Memory Efficiency:\n",
    "Medical images are large (e.g., 128x128 pixels × 3 channels) and processing 10,000 images at once would exceed your computer’s memory.\n",
    "Batches keep the memory usage manageable.\n",
    "\n",
    "  2. Faster Training:\n",
    "Smaller chunks mean quicker updates (faster iterations).\n",
    "You don’t have to wait for all 10,000 images to finish before making an update.\n",
    "\n",
    "  3. More Frequent Learning:\n",
    "After each batch, the model adjusts its weights based on the loss (error).\n",
    "\n",
    "This allows it to learn gradually and adapt faster.\n",
    "\n",
    "**What happens internally for each batch?**\n",
    "\n",
    "The model does a forward pass:\n",
    "\n",
    "* It uses its current weights to make predictions on the 32 images.\n",
    "\n",
    "* It computes the loss:\n",
    "\n",
    "  * Measures how far off the predictions were from the true labels.\n",
    "\n",
    "* It does a backward pass (backpropagation):\n",
    "\n",
    "  * Adjusts its weights slightly to reduce the error.\n",
    "\n",
    "* Then it moves on to the next batch.\n",
    "\n",
    "Repeat this for multiple epochs:\n",
    "Each image in the training set is seen once per epoch, but many times across all epochs (e.g., 10 epochs → each image is seen 10 times in total, in different shuffled batches).\n",
    "\n",
    "\n",
    "Batch:\tA small group of images used to train the model at one time\n",
    "\n",
    "Batch Size:\tNumber of images in one batch (here: 32)\n",
    "\n",
    "Epoch:\tOne full pass through the entire dataset\n",
    "\n",
    "Why 32?\tIt’s a balance between training speed, memory usage, and accuracy stability. Often used as a good default."
   ]
  },
  {
   "cell_type": "code",
   "execution_count": 10,
   "metadata": {
    "id": "zbQpuq0flcSV"
   },
   "outputs": [],
   "source": [
    "# Augmentation and rescaling for training set\n",
    "train_datagen = ImageDataGenerator(rescale=1./255, rotation_range=10, width_shift_range=0.2, height_shift_range=0.2, zoom_range=0.2, horizontal_flip=True)\n",
    "val_datagen = ImageDataGenerator(rescale=1./255)\n",
    "test_datagen = ImageDataGenerator(rescale=1./255)"
   ]
  },
  {
   "cell_type": "markdown",
   "metadata": {
    "id": "308hLm2dd2TM"
   },
   "source": [
    "**Why do we use ImageDataGenerator?**\n",
    "\n",
    "It’s a powerful Keras utility that automates and simplifies the loading, rescaling, and augmentation of image data during training.\n",
    "\n",
    "1. Rescaling from [0, 255] → [0, 1] — Why?\n",
    "The Problem:\n",
    "- Raw pixel values in digital images range from 0 to 255.\n",
    "\n",
    "- These are integer values (called uint8 type) and represent color intensity for each pixel.\n",
    "\n",
    "- Feeding these large values into a neural network slows down training and can lead to unstable gradients.\n",
    "\n",
    "💡 Neural networks work better when:\n",
    "- Input values are small and consistent.\n",
    "\n",
    "- Ideally, values should be in the range:\n",
    "    [0, 1] (for ReLU activations)\n",
    "\n",
    "    or sometimes [-1, 1] (for tanh activations)\n",
    "\n",
    "🧠\n",
    "In this notebook, you’ll see:\n",
    "\n",
    "`ImageDataGenerator(rescale=1./255)`\n",
    "This automatically divides all pixel values by 255, turning this:\n",
    "\n",
    "`Pixel value = 128` → becomes → `128 / 255 ≈ 0.502`\n",
    "Now, all inputs lie between 0.0 and 1.0, making them:\n",
    "\n",
    "* Easier for the model to process.\n",
    "\n",
    "* More numerically stable during optimization (e.g., when calculating gradients).\n",
    "\n",
    "* Faster to converge to a solution.\n",
    "\n",
    "\n",
    "2. What else does ImageDataGenerator do?\n",
    "\n",
    "Besides rescaling, it also provides real-time data augmentation (if configured), such as:\n",
    "\n",
    "\n",
    "\n",
    "```\n",
    "ImageDataGenerator(\n",
    "    rescale=1./255,\n",
    "    rotation_range=10,\n",
    "    width_shift_range=0.2,\n",
    "    height_shift_range=0.2,\n",
    "    zoom_range=0.2,\n",
    "    horizontal_flip=True\n",
    ")\n",
    "```\n",
    "\n",
    "This applies random transformations on the fly, such as:\n",
    "\n",
    "* Rotating OCT scans slightly\n",
    "\n",
    "* Shifting them sideways or vertically\n",
    "\n",
    "* Zooming in or out\n",
    "\n",
    "* Flipping images horizontally\n",
    "\n",
    "\n",
    "=> It increases data diversity without needing more real scans.\n",
    "\n",
    "=> Helps prevent overfitting — the model won’t memorize fixed positions or orientations.\n",
    "\n",
    "=> Mimics real-life variability in how retinal scans are taken (slightly off-center, different zoom levels).\n",
    "\n",
    "👩‍⚕️ In the context of OCT medical imaging:\n",
    "Even if you only have 5,000 original scans, augmentation can generate tens of thousands of slightly different views, improving generalization."
   ]
  },
  {
   "cell_type": "code",
   "execution_count": 11,
   "metadata": {
    "colab": {
     "base_uri": "https://localhost:8080/"
    },
    "id": "Dgh_b7WqlcSV",
    "outputId": "69ca2b7a-8763-4aef-b8e4-accb762b26b9"
   },
   "outputs": [
    {
     "name": "stdout",
     "output_type": "stream",
     "text": [
      "Found 83484 images belonging to 4 classes.\n",
      "Found 32 images belonging to 4 classes.\n",
      "Found 968 images belonging to 4 classes.\n"
     ]
    }
   ],
   "source": [
    "# Data Generators\n",
    "train_generator = train_datagen.flow_from_directory(train_path, target_size=img_size, batch_size=batch_size, class_mode='categorical')\n",
    "val_generator = val_datagen.flow_from_directory(val_path, target_size=img_size, batch_size=batch_size, class_mode='categorical')\n",
    "test_generator = test_datagen.flow_from_directory(test_path, target_size=img_size, batch_size=batch_size, class_mode='categorical', shuffle=False)"
   ]
  },
  {
   "cell_type": "markdown",
   "metadata": {
    "id": "NrXpEWmlYfEs"
   },
   "source": [
    "🔍 Purpose:\n",
    "Automatically:\n",
    "\n",
    "- Read images from folders.\n",
    "\n",
    "- Assign labels based on folder names.\n",
    "\n",
    "- Convert them into batches of tensors."
   ]
  },
  {
   "cell_type": "markdown",
   "metadata": {
    "id": "a1ET5olNYj1u"
   },
   "source": [
    "What is `.flow_from_directory()`?\n",
    "\n",
    "- Reads images directly from folders, where each folder represents a label (category).\n",
    "\n",
    "- Applies preprocessing (resizing, scaling, augmentation).\n",
    "\n",
    "- Sends batches of images + their labels to the neural network — just in time for training.\n",
    "\n",
    "Why use `.flow_from_directory()`?\n",
    "\n",
    "- It automatically labels images based on folder names.\n",
    "\n",
    "- It avoids loading everything into memory (very important for large medical image datasets).\n",
    "\n",
    "- It integrates perfectly with Keras .fit() method.\n",
    "\n",
    "- It supports batching, shuffling, and on-the-fly augmentation."
   ]
  },
  {
   "cell_type": "code",
   "execution_count": 12,
   "metadata": {
    "colab": {
     "base_uri": "https://localhost:8080/"
    },
    "id": "cKPl7ooflcSV",
    "outputId": "9914da77-b794-44d7-950e-282761048635"
   },
   "outputs": [
    {
     "name": "stderr",
     "output_type": "stream",
     "text": [
      "/usr/local/lib/python3.10/site-packages/keras/src/layers/convolutional/base_conv.py:107: UserWarning: Do not pass an `input_shape`/`input_dim` argument to a layer. When using Sequential models, prefer using an `Input(shape)` object as the first layer in the model instead.\n",
      "  super().__init__(activity_regularizer=activity_regularizer, **kwargs)\n",
      "WARNING: All log messages before absl::InitializeLog() is called are written to STDERR\n",
      "I0000 00:00:1746649477.397493   99395 gpu_device.cc:2022] Created device /job:localhost/replica:0/task:0/device:GPU:0 with 63718 MB memory:  -> device: 0, name: AMD Instinct MI250X, pci bus id: 0000:ce:00.0\n"
     ]
    }
   ],
   "source": [
    "# Build CNN model\n",
    "model = tf.keras.models.Sequential([\n",
    "    tf.keras.layers.Conv2D(32, (3, 3), activation='relu', input_shape=(128, 128, 3)),\n",
    "    tf.keras.layers.MaxPooling2D(2, 2),\n",
    "\n",
    "    tf.keras.layers.Conv2D(64, (3, 3), activation='relu'),\n",
    "    tf.keras.layers.MaxPooling2D(2, 2),\n",
    "\n",
    "    tf.keras.layers.Conv2D(128, (3, 3), activation='relu'),\n",
    "    tf.keras.layers.MaxPooling2D(2, 2),\n",
    "\n",
    "    tf.keras.layers.Flatten(),\n",
    "    tf.keras.layers.Dense(128, activation='relu'),\n",
    "    tf.keras.layers.Dropout(0.5),\n",
    "    tf.keras.layers.Dense(4, activation='softmax')\n",
    "])"
   ]
  },
  {
   "cell_type": "markdown",
   "metadata": {
    "id": "ZIUnOx3HY4WF"
   },
   "source": [
    "The structure of the CNN:\n",
    "\n",
    "* 3 Conv-Pool Blocks to extract features (edges, textures).\n",
    "\n",
    "* Flatten + Dense layers to classify.\n",
    "\n",
    "* Dropout to prevent overfitting.\n",
    "\n",
    "* Softmax → multi-class output for 4 classes.\n",
    "\n",
    "1. Convolutional Layers (Conv2D) – “Eyes of the Model”\n",
    "\n",
    "`Conv2D(32, (3, 3), activation='relu', input_shape=(128, 128, 3))`\n",
    "\n",
    "It applies 32 filters, each of size 3×3, that slide across the image and extract patterns. Each filter “sees” a small part of the image and detects things like:\n",
    "\n",
    "* Edges\n",
    "\n",
    "* Curves\n",
    "\n",
    "* Bright-dark transitions\n",
    "\n",
    "🔬 In this case: A filter might learn to detect fluid leakage, macular thickness, or drusen spots.\n",
    "\n",
    "Why multiple filters? Each one learns a different feature.\n",
    "\n",
    "Activation function: `'relu'`\n",
    "\n",
    "* ReLU replaces negative numbers with 0 (like turning off weak signals).\n",
    "\n",
    "* Makes the model non-linear — necessary for learning complex patterns.\n",
    "\n",
    "Input shape:\n",
    "`128 x 128 x 3 `— the OCT image is resized to 128×128 pixels, and it has 3 channels (RGB).\n",
    "\n",
    "2. Pooling Layers (MaxPooling2D) – “Zooming Out”\n",
    "\n",
    "`MaxPooling2D(2, 2)`\n",
    "\n",
    "It reduces the size of the feature maps by keeping only the most important values.\n",
    "\n",
    "For each 2×2 block, it keeps only the maximum value.\n",
    "\n",
    "\n",
    "Benefits:\n",
    "Speeds up training; Reduces memory use; Makes the model more robust to image shifts\n",
    "\n",
    "3. Three Conv–Pool Blocks in Sequence\n",
    "\n",
    "`Conv2D(32) → MaxPool → Conv2D(64) → MaxPool → Conv2D(128) → MaxPool`\n",
    "\n",
    "Each block goes deeper into the image features:\n",
    "\n",
    "Block 1: basic edges, textures\n",
    "\n",
    "Block 2: patterns of textures (e.g., curved vessels)\n",
    "\n",
    "Block 3: abstract features (e.g., OCT swelling shapes)\n",
    "\n",
    "💡 Analogy: going from “pixels” → “features” → “disease signature.”\n",
    "\n",
    "4. Flatten Layer – “From Image to Vector”\n",
    "\n",
    "`Flatten()`\n",
    "\n",
    "It converts the 3D feature maps into a 1D vector so it can be passed into a dense (fully connected) layer.\n",
    "\n",
    "💡 Analogy: unfolding a brain scan onto a flat report for the doctor to interpret.\n",
    "\n",
    "5. Dense Layer – “Classifier”\n",
    "\n",
    "`Dense(128, activation='relu')`\n",
    "\n",
    "A fully connected layer that uses all learned features to make a decision.\n",
    "\n",
    "Each neuron learns combinations of features to help classify diseases.\n",
    "\n",
    "Why 128?\n",
    "It’s a small, efficient number of units — balances learning power and speed.\n",
    "\n",
    "6. Dropout Layer – “Forget Some Connections”\n",
    "\n",
    "`Dropout(0.5)`\n",
    "\n",
    "It randomly drops (ignores) 50% of neurons during training.\n",
    "\n",
    "Prevents the model from becoming too dependent on specific features.\n",
    "\n",
    "💡 Analogy: a medical student being forced to diagnose without relying only on one clue — it trains them to be more general.\n",
    "\n",
    "Prevents overfitting: where the model memorizes the training images instead of learning general rules.\n",
    "\n",
    "7. Output Layer with Softmax – “Final Diagnosis”\n",
    "\n",
    "`Dense(4, activation='softmax')`\n",
    "\n",
    "It outputs 4 values — one for each class:\n",
    "\n",
    "CNV, DME, DRUSEN, NORMAL\n",
    "\n",
    "Softmax converts these values into probabilities that sum to 1.\n",
    "\n",
    "Example output:\n",
    "\n",
    "[0.02, 0.15, 0.75, 0.08] → predicted: DRUSEN\n",
    "\n",
    "Why softmax?\n",
    "It allows the model to pick the most likely class and it is needed when using categorical_crossentropy as the loss.\n",
    "\n"
   ]
  },
  {
   "cell_type": "code",
   "execution_count": 13,
   "metadata": {
    "id": "c5zMARNClcSV"
   },
   "outputs": [],
   "source": [
    "# Compile the model\n",
    "model.compile(optimizer='adam', loss='categorical_crossentropy', metrics=['accuracy'])"
   ]
  },
  {
   "cell_type": "markdown",
   "metadata": {
    "id": "ZIMeqEbtbRLH"
   },
   "source": [
    "1. Adam: efficient optimizer.\n",
    "\n",
    "Categorical crossentropy: correct loss for one-hot encoded multi-class classification.\n",
    "\n",
    "What is an optimizer?\n",
    "\n",
    "The optimizer decides how the model's internal parameters (weights) are updated during training. After the model makes a prediction and calculates the error using the loss function, the optimizer changes the weights to reduce that error in future predictions.\n",
    "\n",
    "Why Adam?\n",
    "Adam = Adaptive Moment Estimation.\n",
    "\n",
    "It combines the advantages of:\n",
    "\n",
    "* SGD (Stochastic Gradient Descent): updates weights based on small batches.\n",
    "\n",
    "* Momentum: remembers past gradients to smooth out the updates.\n",
    "\n",
    "* Adaptive learning rate: adjusts the learning speed for each weight individually.\n",
    "\n",
    "Why we use it in medical image models:\n",
    "It’s fast and efficient, especially with large and complex image data like OCT scans. It learns well even with noisy gradients (like from data augmentation).\n",
    "Good default optimizer — widely used in both research and practice.\n",
    "\n",
    "2. `loss='categorical_crossentropy'`\n",
    "\n",
    "🔍 What is a loss function?\n",
    "The loss function tells the model how wrong its predictions are.\n",
    "\n",
    "It’s the objective we try to minimize during training.\n",
    "\n",
    "🧠 Why categorical_crossentropy?\n",
    "\n",
    "We're doing multi-class classification (4 possible classes: CNV, DME, DRUSEN, NORMAL).\n",
    "\n",
    "Our labels are one-hot encoded vectors (e.g., [0, 1, 0, 0]).\n",
    "\n",
    "The model's output is a probability distribution (via softmax), like [0.1, 0.7, 0.1, 0.1].\n",
    "\n",
    "🚨 How does it work?\n",
    "categorical_crossentropy compares the predicted probabilities with the true label.\n",
    "\n",
    "It penalizes the model more when the probability for the correct class is low.\n",
    "\n",
    "It guides the model to increase confidence in the right class.\n",
    "\n"
   ]
  },
  {
   "cell_type": "code",
   "execution_count": 14,
   "metadata": {
    "colab": {
     "base_uri": "https://localhost:8080/",
     "height": 463
    },
    "id": "DurIzpfNlcSV",
    "outputId": "bafcbace-2ab7-4284-c0fb-f012df9d952c"
   },
   "outputs": [
    {
     "data": {
      "text/html": [
       "<pre style=\"white-space:pre;overflow-x:auto;line-height:normal;font-family:Menlo,'DejaVu Sans Mono',consolas,'Courier New',monospace\"><span style=\"font-weight: bold\">Model: \"sequential\"</span>\n",
       "</pre>\n"
      ],
      "text/plain": [
       "\u001b[1mModel: \"sequential\"\u001b[0m\n"
      ]
     },
     "metadata": {},
     "output_type": "display_data"
    },
    {
     "data": {
      "text/html": [
       "<pre style=\"white-space:pre;overflow-x:auto;line-height:normal;font-family:Menlo,'DejaVu Sans Mono',consolas,'Courier New',monospace\">┏━━━━━━━━━━━━━━━━━━━━━━━━━━━━━━━━━┳━━━━━━━━━━━━━━━━━━━━━━━━┳━━━━━━━━━━━━━━━┓\n",
       "┃<span style=\"font-weight: bold\"> Layer (type)                    </span>┃<span style=\"font-weight: bold\"> Output Shape           </span>┃<span style=\"font-weight: bold\">       Param # </span>┃\n",
       "┡━━━━━━━━━━━━━━━━━━━━━━━━━━━━━━━━━╇━━━━━━━━━━━━━━━━━━━━━━━━╇━━━━━━━━━━━━━━━┩\n",
       "│ conv2d (<span style=\"color: #0087ff; text-decoration-color: #0087ff\">Conv2D</span>)                 │ (<span style=\"color: #00d7ff; text-decoration-color: #00d7ff\">None</span>, <span style=\"color: #00af00; text-decoration-color: #00af00\">126</span>, <span style=\"color: #00af00; text-decoration-color: #00af00\">126</span>, <span style=\"color: #00af00; text-decoration-color: #00af00\">32</span>)   │           <span style=\"color: #00af00; text-decoration-color: #00af00\">896</span> │\n",
       "├─────────────────────────────────┼────────────────────────┼───────────────┤\n",
       "│ max_pooling2d (<span style=\"color: #0087ff; text-decoration-color: #0087ff\">MaxPooling2D</span>)    │ (<span style=\"color: #00d7ff; text-decoration-color: #00d7ff\">None</span>, <span style=\"color: #00af00; text-decoration-color: #00af00\">63</span>, <span style=\"color: #00af00; text-decoration-color: #00af00\">63</span>, <span style=\"color: #00af00; text-decoration-color: #00af00\">32</span>)     │             <span style=\"color: #00af00; text-decoration-color: #00af00\">0</span> │\n",
       "├─────────────────────────────────┼────────────────────────┼───────────────┤\n",
       "│ conv2d_1 (<span style=\"color: #0087ff; text-decoration-color: #0087ff\">Conv2D</span>)               │ (<span style=\"color: #00d7ff; text-decoration-color: #00d7ff\">None</span>, <span style=\"color: #00af00; text-decoration-color: #00af00\">61</span>, <span style=\"color: #00af00; text-decoration-color: #00af00\">61</span>, <span style=\"color: #00af00; text-decoration-color: #00af00\">64</span>)     │        <span style=\"color: #00af00; text-decoration-color: #00af00\">18,496</span> │\n",
       "├─────────────────────────────────┼────────────────────────┼───────────────┤\n",
       "│ max_pooling2d_1 (<span style=\"color: #0087ff; text-decoration-color: #0087ff\">MaxPooling2D</span>)  │ (<span style=\"color: #00d7ff; text-decoration-color: #00d7ff\">None</span>, <span style=\"color: #00af00; text-decoration-color: #00af00\">30</span>, <span style=\"color: #00af00; text-decoration-color: #00af00\">30</span>, <span style=\"color: #00af00; text-decoration-color: #00af00\">64</span>)     │             <span style=\"color: #00af00; text-decoration-color: #00af00\">0</span> │\n",
       "├─────────────────────────────────┼────────────────────────┼───────────────┤\n",
       "│ conv2d_2 (<span style=\"color: #0087ff; text-decoration-color: #0087ff\">Conv2D</span>)               │ (<span style=\"color: #00d7ff; text-decoration-color: #00d7ff\">None</span>, <span style=\"color: #00af00; text-decoration-color: #00af00\">28</span>, <span style=\"color: #00af00; text-decoration-color: #00af00\">28</span>, <span style=\"color: #00af00; text-decoration-color: #00af00\">128</span>)    │        <span style=\"color: #00af00; text-decoration-color: #00af00\">73,856</span> │\n",
       "├─────────────────────────────────┼────────────────────────┼───────────────┤\n",
       "│ max_pooling2d_2 (<span style=\"color: #0087ff; text-decoration-color: #0087ff\">MaxPooling2D</span>)  │ (<span style=\"color: #00d7ff; text-decoration-color: #00d7ff\">None</span>, <span style=\"color: #00af00; text-decoration-color: #00af00\">14</span>, <span style=\"color: #00af00; text-decoration-color: #00af00\">14</span>, <span style=\"color: #00af00; text-decoration-color: #00af00\">128</span>)    │             <span style=\"color: #00af00; text-decoration-color: #00af00\">0</span> │\n",
       "├─────────────────────────────────┼────────────────────────┼───────────────┤\n",
       "│ flatten (<span style=\"color: #0087ff; text-decoration-color: #0087ff\">Flatten</span>)               │ (<span style=\"color: #00d7ff; text-decoration-color: #00d7ff\">None</span>, <span style=\"color: #00af00; text-decoration-color: #00af00\">25088</span>)          │             <span style=\"color: #00af00; text-decoration-color: #00af00\">0</span> │\n",
       "├─────────────────────────────────┼────────────────────────┼───────────────┤\n",
       "│ dense (<span style=\"color: #0087ff; text-decoration-color: #0087ff\">Dense</span>)                   │ (<span style=\"color: #00d7ff; text-decoration-color: #00d7ff\">None</span>, <span style=\"color: #00af00; text-decoration-color: #00af00\">128</span>)            │     <span style=\"color: #00af00; text-decoration-color: #00af00\">3,211,392</span> │\n",
       "├─────────────────────────────────┼────────────────────────┼───────────────┤\n",
       "│ dropout (<span style=\"color: #0087ff; text-decoration-color: #0087ff\">Dropout</span>)               │ (<span style=\"color: #00d7ff; text-decoration-color: #00d7ff\">None</span>, <span style=\"color: #00af00; text-decoration-color: #00af00\">128</span>)            │             <span style=\"color: #00af00; text-decoration-color: #00af00\">0</span> │\n",
       "├─────────────────────────────────┼────────────────────────┼───────────────┤\n",
       "│ dense_1 (<span style=\"color: #0087ff; text-decoration-color: #0087ff\">Dense</span>)                 │ (<span style=\"color: #00d7ff; text-decoration-color: #00d7ff\">None</span>, <span style=\"color: #00af00; text-decoration-color: #00af00\">4</span>)              │           <span style=\"color: #00af00; text-decoration-color: #00af00\">516</span> │\n",
       "└─────────────────────────────────┴────────────────────────┴───────────────┘\n",
       "</pre>\n"
      ],
      "text/plain": [
       "┏━━━━━━━━━━━━━━━━━━━━━━━━━━━━━━━━━┳━━━━━━━━━━━━━━━━━━━━━━━━┳━━━━━━━━━━━━━━━┓\n",
       "┃\u001b[1m \u001b[0m\u001b[1mLayer (type)                   \u001b[0m\u001b[1m \u001b[0m┃\u001b[1m \u001b[0m\u001b[1mOutput Shape          \u001b[0m\u001b[1m \u001b[0m┃\u001b[1m \u001b[0m\u001b[1m      Param #\u001b[0m\u001b[1m \u001b[0m┃\n",
       "┡━━━━━━━━━━━━━━━━━━━━━━━━━━━━━━━━━╇━━━━━━━━━━━━━━━━━━━━━━━━╇━━━━━━━━━━━━━━━┩\n",
       "│ conv2d (\u001b[38;5;33mConv2D\u001b[0m)                 │ (\u001b[38;5;45mNone\u001b[0m, \u001b[38;5;34m126\u001b[0m, \u001b[38;5;34m126\u001b[0m, \u001b[38;5;34m32\u001b[0m)   │           \u001b[38;5;34m896\u001b[0m │\n",
       "├─────────────────────────────────┼────────────────────────┼───────────────┤\n",
       "│ max_pooling2d (\u001b[38;5;33mMaxPooling2D\u001b[0m)    │ (\u001b[38;5;45mNone\u001b[0m, \u001b[38;5;34m63\u001b[0m, \u001b[38;5;34m63\u001b[0m, \u001b[38;5;34m32\u001b[0m)     │             \u001b[38;5;34m0\u001b[0m │\n",
       "├─────────────────────────────────┼────────────────────────┼───────────────┤\n",
       "│ conv2d_1 (\u001b[38;5;33mConv2D\u001b[0m)               │ (\u001b[38;5;45mNone\u001b[0m, \u001b[38;5;34m61\u001b[0m, \u001b[38;5;34m61\u001b[0m, \u001b[38;5;34m64\u001b[0m)     │        \u001b[38;5;34m18,496\u001b[0m │\n",
       "├─────────────────────────────────┼────────────────────────┼───────────────┤\n",
       "│ max_pooling2d_1 (\u001b[38;5;33mMaxPooling2D\u001b[0m)  │ (\u001b[38;5;45mNone\u001b[0m, \u001b[38;5;34m30\u001b[0m, \u001b[38;5;34m30\u001b[0m, \u001b[38;5;34m64\u001b[0m)     │             \u001b[38;5;34m0\u001b[0m │\n",
       "├─────────────────────────────────┼────────────────────────┼───────────────┤\n",
       "│ conv2d_2 (\u001b[38;5;33mConv2D\u001b[0m)               │ (\u001b[38;5;45mNone\u001b[0m, \u001b[38;5;34m28\u001b[0m, \u001b[38;5;34m28\u001b[0m, \u001b[38;5;34m128\u001b[0m)    │        \u001b[38;5;34m73,856\u001b[0m │\n",
       "├─────────────────────────────────┼────────────────────────┼───────────────┤\n",
       "│ max_pooling2d_2 (\u001b[38;5;33mMaxPooling2D\u001b[0m)  │ (\u001b[38;5;45mNone\u001b[0m, \u001b[38;5;34m14\u001b[0m, \u001b[38;5;34m14\u001b[0m, \u001b[38;5;34m128\u001b[0m)    │             \u001b[38;5;34m0\u001b[0m │\n",
       "├─────────────────────────────────┼────────────────────────┼───────────────┤\n",
       "│ flatten (\u001b[38;5;33mFlatten\u001b[0m)               │ (\u001b[38;5;45mNone\u001b[0m, \u001b[38;5;34m25088\u001b[0m)          │             \u001b[38;5;34m0\u001b[0m │\n",
       "├─────────────────────────────────┼────────────────────────┼───────────────┤\n",
       "│ dense (\u001b[38;5;33mDense\u001b[0m)                   │ (\u001b[38;5;45mNone\u001b[0m, \u001b[38;5;34m128\u001b[0m)            │     \u001b[38;5;34m3,211,392\u001b[0m │\n",
       "├─────────────────────────────────┼────────────────────────┼───────────────┤\n",
       "│ dropout (\u001b[38;5;33mDropout\u001b[0m)               │ (\u001b[38;5;45mNone\u001b[0m, \u001b[38;5;34m128\u001b[0m)            │             \u001b[38;5;34m0\u001b[0m │\n",
       "├─────────────────────────────────┼────────────────────────┼───────────────┤\n",
       "│ dense_1 (\u001b[38;5;33mDense\u001b[0m)                 │ (\u001b[38;5;45mNone\u001b[0m, \u001b[38;5;34m4\u001b[0m)              │           \u001b[38;5;34m516\u001b[0m │\n",
       "└─────────────────────────────────┴────────────────────────┴───────────────┘\n"
      ]
     },
     "metadata": {},
     "output_type": "display_data"
    },
    {
     "data": {
      "text/html": [
       "<pre style=\"white-space:pre;overflow-x:auto;line-height:normal;font-family:Menlo,'DejaVu Sans Mono',consolas,'Courier New',monospace\"><span style=\"font-weight: bold\"> Total params: </span><span style=\"color: #00af00; text-decoration-color: #00af00\">3,305,156</span> (12.61 MB)\n",
       "</pre>\n"
      ],
      "text/plain": [
       "\u001b[1m Total params: \u001b[0m\u001b[38;5;34m3,305,156\u001b[0m (12.61 MB)\n"
      ]
     },
     "metadata": {},
     "output_type": "display_data"
    },
    {
     "data": {
      "text/html": [
       "<pre style=\"white-space:pre;overflow-x:auto;line-height:normal;font-family:Menlo,'DejaVu Sans Mono',consolas,'Courier New',monospace\"><span style=\"font-weight: bold\"> Trainable params: </span><span style=\"color: #00af00; text-decoration-color: #00af00\">3,305,156</span> (12.61 MB)\n",
       "</pre>\n"
      ],
      "text/plain": [
       "\u001b[1m Trainable params: \u001b[0m\u001b[38;5;34m3,305,156\u001b[0m (12.61 MB)\n"
      ]
     },
     "metadata": {},
     "output_type": "display_data"
    },
    {
     "data": {
      "text/html": [
       "<pre style=\"white-space:pre;overflow-x:auto;line-height:normal;font-family:Menlo,'DejaVu Sans Mono',consolas,'Courier New',monospace\"><span style=\"font-weight: bold\"> Non-trainable params: </span><span style=\"color: #00af00; text-decoration-color: #00af00\">0</span> (0.00 B)\n",
       "</pre>\n"
      ],
      "text/plain": [
       "\u001b[1m Non-trainable params: \u001b[0m\u001b[38;5;34m0\u001b[0m (0.00 B)\n"
      ]
     },
     "metadata": {},
     "output_type": "display_data"
    }
   ],
   "source": [
    "# Model summary\n",
    "model.summary()"
   ]
  },
  {
   "cell_type": "markdown",
   "metadata": {
    "id": "M42yxOR3fj7U"
   },
   "source": [
    "Parameters are the internal weights and biases of the model — the numbers that the model learns from the data during training.\n",
    "\n",
    "In a CNN:\n",
    "\n",
    "* Convolutional layers have filters → each filter has weights.\n",
    "\n",
    "* Dense (fully connected) layers connect neurons → each connection has a weight.\n",
    "\n",
    "* Each weight is a trainable parameter."
   ]
  },
  {
   "cell_type": "markdown",
   "metadata": {
    "id": "EwfIGzB2foHO"
   },
   "source": [
    "The model includes Conv2D layer with 32 filters.\n",
    "\n",
    "Each filter is 3×3 and has 3 input channels (RGB)\n",
    "\n",
    "So: 32 × (3×3×3 + 1 bias) = 896 parameters\n",
    "\n",
    "That’s just for the first layer. Later layers (with 64, 128 filters and full Dense layers) have thousands or millions of parameters.\n",
    "\n",
    "All those together = 3,305,156 parameters"
   ]
  },
  {
   "cell_type": "code",
   "execution_count": null,
   "metadata": {
    "colab": {
     "base_uri": "https://localhost:8080/"
    },
    "id": "Eue8K0qtlcSV",
    "outputId": "83e2efae-36f6-4f9e-a4d5-30deb1e889a2"
   },
   "outputs": [],
   "source": [
    "# Model training\n",
    "history = model.fit(train_generator, validation_data=val_generator, epochs=10)"
   ]
  },
  {
   "cell_type": "markdown",
   "metadata": {
    "id": "cPvmB5w5cDz0"
   },
   "source": [
    "Model learns from training data and checks its performance on validation data across 10 epochs (full passes through the dataset)."
   ]
  },
  {
   "cell_type": "code",
   "execution_count": null,
   "metadata": {
    "id": "0XQ3eHQ7lcSV"
   },
   "outputs": [],
   "source": [
    "# Learning Curves for Accuracy and Loss\n",
    "def plot_learning_curves(history):\n",
    "    acc = history.history['accuracy']\n",
    "    val_acc = history.history['val_accuracy']\n",
    "    loss = history.history['loss']\n",
    "    val_loss = history.history['val_loss']\n",
    "\n",
    "    epochs_range = range(len(acc))\n",
    "\n",
    "    plt.figure(figsize=(12, 6))\n",
    "\n",
    "    # Accuracy Plot\n",
    "    plt.subplot(1, 2, 1)\n",
    "    plt.plot(epochs_range, acc, label='Training Accuracy')\n",
    "    plt.plot(epochs_range, val_acc, label='Validation Accuracy')\n",
    "    plt.legend(loc='lower right')\n",
    "    plt.title('Training and Validation Accuracy')\n",
    "\n",
    "    # Loss Plot\n",
    "    plt.subplot(1, 2, 2)\n",
    "    plt.plot(epochs_range, loss, label='Training Loss')\n",
    "    plt.plot(epochs_range, val_loss, label='Validation Loss')\n",
    "    plt.legend(loc='upper right')\n",
    "    plt.title('Training and Validation Loss')\n",
    "\n",
    "    plt.tight_layout()\n",
    "    plt.show()\n",
    "\n",
    "# Plot learning curves\n",
    "plot_learning_curves(history)"
   ]
  },
  {
   "cell_type": "code",
   "execution_count": null,
   "metadata": {
    "id": "5w2Rp1I_lcSW"
   },
   "outputs": [],
   "source": [
    "# Evaluate model on test set\n",
    "test_loss, test_acc = model.evaluate(test_generator)\n",
    "print(f'Test Accuracy: {test_acc * 100:.2f}%')"
   ]
  },
  {
   "cell_type": "code",
   "execution_count": null,
   "metadata": {
    "id": "ph70K4t5lcSW"
   },
   "outputs": [],
   "source": [
    "# Predicting on the test set\n",
    "test_predictions = model.predict(test_generator)\n",
    "test_predictions_labels = np.argmax(test_predictions, axis=1)\n",
    "true_labels = test_generator.classes"
   ]
  },
  {
   "cell_type": "code",
   "execution_count": null,
   "metadata": {
    "id": "TuSkcyFulcSW"
   },
   "outputs": [],
   "source": [
    "# Classification report\n",
    "class_report = classification_report(true_labels, test_predictions_labels, target_names=categories)\n",
    "print(\"Classification Report:\")\n",
    "print(class_report)"
   ]
  },
  {
   "cell_type": "code",
   "execution_count": null,
   "metadata": {
    "id": "L9kB6kDdlcSW"
   },
   "outputs": [],
   "source": [
    "# Confusion matrix\n",
    "conf_matrix = confusion_matrix(true_labels, test_predictions_labels)\n",
    "\n",
    "# Plot Confusion Matrix\n",
    "plt.figure(figsize=(8, 6))\n",
    "sns.heatmap(conf_matrix, annot=True, cmap=\"Blues\", fmt=\"d\", xticklabels=categories, yticklabels=categories)\n",
    "plt.title(\"Confusion Matrix\")\n",
    "plt.xlabel(\"Predicted Label\")\n",
    "plt.ylabel(\"True Label\")\n",
    "plt.show()"
   ]
  },
  {
   "cell_type": "code",
   "execution_count": null,
   "metadata": {
    "id": "_PqCcrpxlcSW"
   },
   "outputs": [],
   "source": [
    "# ROC Curve for Multi-class Classification\n",
    "def plot_multiclass_roc(test_labels, test_predictions):\n",
    "    test_labels_binarized = label_binarize(test_labels, classes=[0, 1, 2, 3])\n",
    "    fpr = dict()\n",
    "    tpr = dict()\n",
    "    roc_auc = dict()\n",
    "\n",
    "    for i in range(len(categories)):\n",
    "        fpr[i], tpr[i], _ = roc_curve(test_labels_binarized[:, i], test_predictions[:, i])\n",
    "        roc_auc[i] = auc(fpr[i], tpr[i])\n",
    "\n",
    "    plt.figure(figsize=(10, 8))\n",
    "    for i, color in zip(range(len(categories)), ['blue', 'green', 'orange', 'red']):\n",
    "        plt.plot(fpr[i], tpr[i], color=color, lw=2,\n",
    "                 label=f'ROC curve of class {categories[i]} (area = {roc_auc[i]:0.2f})')\n",
    "\n",
    "    plt.plot([0, 1], [0, 1], 'k--', lw=2)\n",
    "    plt.xlim([0.0, 1.0])\n",
    "    plt.ylim([0.0, 1.05])\n",
    "    plt.xlabel('False Positive Rate')\n",
    "    plt.ylabel('True Positive Rate')\n",
    "    plt.title('Receiver Operating Characteristic (ROC) Curve')\n",
    "    plt.legend(loc=\"lower right\")\n",
    "    plt.show()\n",
    "\n",
    "# Plot ROC Curve for multi-class\n",
    "plot_multiclass_roc(true_labels, test_predictions)"
   ]
  },
  {
   "cell_type": "markdown",
   "metadata": {
    "id": "8LIuMAnNcMoX"
   },
   "source": [
    "🧠 What is the ROC Curve?\n",
    "The ROC curve is a plot of:\n",
    "\n",
    "* True Positive Rate (Sensitivity or Recall)\n",
    "vs.\n",
    "\n",
    "* False Positive Rate (1 - Specificity)\n",
    "\n",
    "It tells us how well the model can distinguish between one class and all the others.\n",
    "\n",
    "In multi-class classification, we plot one ROC curve per class, by treating each class as “positive” and the others as “negative.”\n",
    "\n",
    "Why ROC Curves are helpful in Medical Diagnosis?\n",
    "\n",
    "1. They evaluate more than just accuracy:\n",
    "A model might show 90% accuracy, but this could be misleading if the dataset is imbalanced (e.g., most images are NORMAL).\n",
    "\n",
    "  - ROC curves focus on sensitivity (recall), which is critical in medicine:\n",
    "\n",
    "  - You don’t want the model to miss DRUSEN or CNV, even if they are rare.\n",
    "\n",
    "2. They show diagnostic ability across thresholds:\n",
    "The model outputs probabilities, not hard labels.\n",
    "\n",
    "ROC curves show how performance changes as the decision threshold shifts.\n",
    "\n",
    "Clinicians may want:\n",
    "\n",
    "  - High sensitivity → catch as many diseases as possible (for screening tools)\n",
    "\n",
    "or\n",
    "\n",
    "  - High specificity → minimize false alarms (for final diagnosis)\n",
    "\n",
    "3. The AUC (Area Under Curve) gives a clear score:\n",
    "\n",
    "AUC = 1 → perfect classifier\n",
    "\n",
    "AUC = 0.5 → random guessing\n",
    "\n",
    "AUC ≥ 0.90 → excellent model\n",
    "\n",
    "AUC < 0.70 → weak, needs improvement\n",
    "\n",
    "So instead of just saying “my model is good,” you can say:\n",
    "\n",
    "\"Our model detects CNV with an AUC of 0.94, which means there's a 94% chance it ranks a true CNV scan higher than a non-CNV scan.\"\n",
    "\n",
    "👨‍⚕️ Clinical Perspective:\n",
    "Imagine your model must detect DRUSEN, a subtle sign of AMD (age-related macular degeneration).\n",
    "\n",
    "Even if accuracy looks high, a low AUC for DRUSEN might mean:\n",
    "\n",
    "The model often misses real DRUSEN cases OR confuses them with NORMAL or DME.\n",
    "\n",
    "The ROC curve helps reveal this hidden diagnostic weakness — and that’s crucial in medicine."
   ]
  },
  {
   "cell_type": "code",
   "execution_count": null,
   "metadata": {
    "id": "XUMfEn7jlcSW"
   },
   "outputs": [],
   "source": [
    "# Display 10 sample predictions with actual and predicted labels\n",
    "def plot_sample_predictions(test_generator, num_samples=10):\n",
    "    test_generator.reset()\n",
    "    sample_images, sample_labels = next(test_generator)\n",
    "    predictions = model.predict(sample_images)\n",
    "    predicted_labels = np.argmax(predictions, axis=1)\n",
    "\n",
    "    plt.figure(figsize=(15, 15))\n",
    "    for i in range(num_samples):\n",
    "        plt.subplot(5, 2, i+1)\n",
    "        plt.imshow(sample_images[i])\n",
    "        plt.title(f\"Actual: {categories[np.argmax(sample_labels[i])]}, Predicted: {categories[predicted_labels[i]]}\")\n",
    "        plt.axis('off')\n",
    "    plt.show()\n",
    "\n",
    "# Show 10 samples with predictions\n",
    "plot_sample_predictions(test_generator)"
   ]
  },
  {
   "cell_type": "code",
   "execution_count": null,
   "metadata": {
    "id": "0_CglCkPlcSW"
   },
   "outputs": [],
   "source": [
    "# Save the model\n",
    "model.save('/kaggle/working/oct_model.h5')"
   ]
  },
  {
   "cell_type": "code",
   "execution_count": null,
   "metadata": {
    "id": "WRSSMrAxAA6b"
   },
   "outputs": [],
   "source": []
  }
 ],
 "metadata": {
  "accelerator": "GPU",
  "colab": {
   "gpuType": "T4",
   "provenance": []
  },
  "kaggle": {
   "accelerator": "nvidiaTeslaT4",
   "dataSources": [
    {
     "datasetId": 17839,
     "sourceId": 23942,
     "sourceType": "datasetVersion"
    }
   ],
   "dockerImageVersionId": 30776,
   "isGpuEnabled": true,
   "isInternetEnabled": true,
   "language": "python",
   "sourceType": "notebook"
  },
  "kernelspec": {
   "display_name": "Python 3 (ipykernel)",
   "language": "python",
   "name": "python3"
  },
  "language_info": {
   "codemirror_mode": {
    "name": "ipython",
    "version": 3
   },
   "file_extension": ".py",
   "mimetype": "text/x-python",
   "name": "python",
   "nbconvert_exporter": "python",
   "pygments_lexer": "ipython3",
   "version": "3.10.9"
  }
 },
 "nbformat": 4,
 "nbformat_minor": 4
}
