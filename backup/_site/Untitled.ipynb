{
 "cells": [
  {
   "cell_type": "code",
   "execution_count": 10,
   "id": "1f22d3a1-08f7-4d03-a0d3-5a71ca897fa7",
   "metadata": {},
   "outputs": [],
   "source": [
    "from tensorflow import keras\n",
    "import seaborn as sns\n",
    "import pandas as pd"
   ]
  },
  {
   "cell_type": "code",
   "execution_count": 4,
   "id": "7f4ea9ea-4017-4b45-9628-68e837af70c0",
   "metadata": {},
   "outputs": [],
   "source": [
    "(train_images, train_labels), (test_images, test_labels) = keras.datasets.cifar10.load_data()"
   ]
  },
  {
   "cell_type": "code",
   "execution_count": 5,
   "id": "133d2407-1083-471c-b443-a80c7e40888f",
   "metadata": {},
   "outputs": [],
   "source": [
    "n = 5000\n",
    "train_images = train_images[:n]\n",
    "train_labels = train_labels[:n]"
   ]
  },
  {
   "cell_type": "code",
   "execution_count": 6,
   "id": "1c7cfa68-6139-4ded-89e6-d56c5daaeba7",
   "metadata": {},
   "outputs": [],
   "source": [
    "train_images = train_images / 255.0\n",
    "test_images = test_images / 255.0"
   ]
  },
  {
   "cell_type": "code",
   "execution_count": 7,
   "id": "08324f1a-6372-4826-929a-d97b3f5b36f0",
   "metadata": {},
   "outputs": [
    {
     "name": "stdout",
     "output_type": "stream",
     "text": [
      "Model: \"cifar_model\"\n",
      "_________________________________________________________________\n",
      " Layer (type)                Output Shape              Param #   \n",
      "=================================================================\n",
      " input_1 (InputLayer)        [(None, 32, 32, 3)]       0         \n",
      "                                                                 \n",
      " conv2d (Conv2D)             (None, 30, 30, 50)        1400      \n",
      "                                                                 \n",
      " max_pooling2d (MaxPooling2D  (None, 15, 15, 50)       0         \n",
      " )                                                               \n",
      "                                                                 \n",
      " conv2d_1 (Conv2D)           (None, 13, 13, 50)        22550     \n",
      "                                                                 \n",
      " max_pooling2d_1 (MaxPooling  (None, 6, 6, 50)         0         \n",
      " 2D)                                                             \n",
      "                                                                 \n",
      " conv2d_2 (Conv2D)           (None, 4, 4, 50)          22550     \n",
      "                                                                 \n",
      " dropout (Dropout)           (None, 4, 4, 50)          0         \n",
      "                                                                 \n",
      " flatten (Flatten)           (None, 800)               0         \n",
      "                                                                 \n",
      " dense (Dense)               (None, 50)                40050     \n",
      "                                                                 \n",
      " dense_1 (Dense)             (None, 10)                510       \n",
      "                                                                 \n",
      "=================================================================\n",
      "Total params: 87,060\n",
      "Trainable params: 87,060\n",
      "Non-trainable params: 0\n",
      "_________________________________________________________________\n"
     ]
    }
   ],
   "source": [
    "inputs = keras.Input(shape=train_images.shape[1:])\n",
    "x = keras.layers.Conv2D(50, (3, 3), activation='relu')(inputs)\n",
    "x = keras.layers.MaxPooling2D((2, 2))(x)\n",
    "x = keras.layers.Conv2D(50, (3, 3), activation='relu')(x)\n",
    "x = keras.layers.MaxPooling2D((2, 2))(x)\n",
    "x = keras.layers.Conv2D(50, (3, 3), activation='relu')(x)\n",
    "x = keras.layers.Dropout(0.8)(x) # This is new!\n",
    "x = keras.layers.Flatten()(x)\n",
    "x = keras.layers.Dense(50, activation='relu')(x)\n",
    "outputs = keras.layers.Dense(10)(x)\n",
    "\n",
    "model_dropout = keras.Model(inputs=inputs, outputs=outputs, name=\"cifar_model\")\n",
    "\n",
    "model_dropout.summary()"
   ]
  },
  {
   "cell_type": "code",
   "execution_count": 8,
   "id": "3968247d-f906-4d2a-a60b-aab6c1a83b39",
   "metadata": {},
   "outputs": [
    {
     "name": "stdout",
     "output_type": "stream",
     "text": [
      "Epoch 1/20\n"
     ]
    },
    {
     "name": "stderr",
     "output_type": "stream",
     "text": [
      "2023-03-08 15:27:53.523078: W tensorflow/core/platform/profile_utils/cpu_utils.cc:128] Failed to get CPU frequency: 0 Hz\n"
     ]
    },
    {
     "name": "stdout",
     "output_type": "stream",
     "text": [
      "157/157 [==============================] - 3s 15ms/step - loss: 2.2098 - accuracy: 0.1614 - val_loss: 2.0335 - val_accuracy: 0.2151\n",
      "Epoch 2/20\n",
      "157/157 [==============================] - 2s 14ms/step - loss: 2.0199 - accuracy: 0.2328 - val_loss: 1.9184 - val_accuracy: 0.2661\n",
      "Epoch 3/20\n",
      "157/157 [==============================] - 2s 15ms/step - loss: 1.8933 - accuracy: 0.2730 - val_loss: 1.7711 - val_accuracy: 0.3381\n",
      "Epoch 4/20\n",
      "157/157 [==============================] - 2s 15ms/step - loss: 1.8119 - accuracy: 0.3090 - val_loss: 1.8261 - val_accuracy: 0.3052\n",
      "Epoch 5/20\n",
      "157/157 [==============================] - 2s 15ms/step - loss: 1.7319 - accuracy: 0.3570 - val_loss: 1.7028 - val_accuracy: 0.3681\n",
      "Epoch 6/20\n",
      "157/157 [==============================] - 2s 15ms/step - loss: 1.6796 - accuracy: 0.3728 - val_loss: 1.5789 - val_accuracy: 0.4188\n",
      "Epoch 7/20\n",
      "157/157 [==============================] - 2s 16ms/step - loss: 1.6097 - accuracy: 0.3932 - val_loss: 1.5195 - val_accuracy: 0.4343\n",
      "Epoch 8/20\n",
      "157/157 [==============================] - 3s 17ms/step - loss: 1.5694 - accuracy: 0.4096 - val_loss: 1.5209 - val_accuracy: 0.4407\n",
      "Epoch 9/20\n",
      "157/157 [==============================] - 3s 17ms/step - loss: 1.5364 - accuracy: 0.4284 - val_loss: 1.4615 - val_accuracy: 0.4594\n",
      "Epoch 10/20\n",
      "157/157 [==============================] - 3s 18ms/step - loss: 1.5017 - accuracy: 0.4484 - val_loss: 1.4343 - val_accuracy: 0.4684\n",
      "Epoch 11/20\n",
      "157/157 [==============================] - 3s 17ms/step - loss: 1.4755 - accuracy: 0.4576 - val_loss: 1.4803 - val_accuracy: 0.4606\n",
      "Epoch 12/20\n",
      "157/157 [==============================] - 3s 18ms/step - loss: 1.4285 - accuracy: 0.4652 - val_loss: 1.3588 - val_accuracy: 0.5055\n",
      "Epoch 13/20\n",
      "157/157 [==============================] - 3s 19ms/step - loss: 1.4193 - accuracy: 0.4814 - val_loss: 1.3749 - val_accuracy: 0.4945\n",
      "Epoch 14/20\n",
      "157/157 [==============================] - 3s 19ms/step - loss: 1.3972 - accuracy: 0.4982 - val_loss: 1.3511 - val_accuracy: 0.5052\n",
      "Epoch 15/20\n",
      "157/157 [==============================] - 3s 19ms/step - loss: 1.3768 - accuracy: 0.4926 - val_loss: 1.3960 - val_accuracy: 0.4883\n",
      "Epoch 16/20\n",
      "157/157 [==============================] - 3s 20ms/step - loss: 1.3657 - accuracy: 0.4992 - val_loss: 1.3322 - val_accuracy: 0.5114\n",
      "Epoch 17/20\n",
      "157/157 [==============================] - 3s 20ms/step - loss: 1.3526 - accuracy: 0.5122 - val_loss: 1.3858 - val_accuracy: 0.4992\n",
      "Epoch 18/20\n",
      "157/157 [==============================] - 3s 19ms/step - loss: 1.2949 - accuracy: 0.5198 - val_loss: 1.3117 - val_accuracy: 0.5255\n",
      "Epoch 19/20\n",
      "157/157 [==============================] - 3s 19ms/step - loss: 1.3117 - accuracy: 0.5208 - val_loss: 1.3121 - val_accuracy: 0.5241\n",
      "Epoch 20/20\n",
      "157/157 [==============================] - 3s 20ms/step - loss: 1.2850 - accuracy: 0.5268 - val_loss: 1.3102 - val_accuracy: 0.5195\n"
     ]
    }
   ],
   "source": [
    "model_dropout.compile(optimizer='adam',\n",
    "              loss=keras.losses.SparseCategoricalCrossentropy(from_logits=True),\n",
    "              metrics=['accuracy'])\n",
    "\n",
    "history_dropout = model_dropout.fit(train_images, train_labels, epochs=20,\n",
    "                    validation_data=(test_images, test_labels))"
   ]
  },
  {
   "cell_type": "code",
   "execution_count": 11,
   "id": "c2e43c6b-261f-4aec-924a-ed236dccaff3",
   "metadata": {},
   "outputs": [
    {
     "name": "stdout",
     "output_type": "stream",
     "text": [
      "313/313 - 1s - loss: 1.3102 - accuracy: 0.5195 - 1s/epoch - 5ms/step\n"
     ]
    },
    {
     "data": {
      "image/png": "[encoded data removed]",
      "text/plain": [
       "<Figure size 432x288 with 1 Axes>"
      ]
     },
     "metadata": {
      "needs_background": "light"
     },
     "output_type": "display_data"
    }
   ],
   "source": [
    "history_df = pd.DataFrame.from_dict(history_dropout.history)\n",
    "history_df['epoch'] = range(1,len(history_df)+1)\n",
    "history_df = history_df.set_index('epoch')\n",
    "sns.lineplot(data=history_df[['accuracy', 'val_accuracy']])\n",
    "\n",
    "test_loss, test_acc = model_dropout.evaluate(test_images,  test_labels, verbose=2)"
   ]
  },
  {
   "cell_type": "code",
   "execution_count": 12,
   "id": "b09c4d9f-706a-46a5-ad85-8d9a5b8afa72",
   "metadata": {},
   "outputs": [
    {
     "data": {
      "text/plain": [
       "<AxesSubplot:xlabel='epoch'>"
      ]
     },
     "execution_count": 12,
     "metadata": {},
     "output_type": "execute_result"
    },
    {
     "data": {
      "image/png": "[encoded data removed]",
      "text/plain": [
       "<Figure size 432x288 with 1 Axes>"
      ]
     },
     "metadata": {
      "needs_background": "light"
     },
     "output_type": "display_data"
    }
   ],
   "source": [
    "sns.lineplot(data=history_df[['loss', 'val_loss']])"
   ]
  },
  {
   "cell_type": "code",
   "execution_count": 39,
   "id": "293b36ba-60a7-4020-ae99-236276b365d2",
   "metadata": {
    "collapsed": true,
    "jupyter": {
     "outputs_hidden": true
    },
    "tags": []
   },
   "outputs": [
    {
     "name": "stdout",
     "output_type": "stream",
     "text": [
      "Epoch 1/20\n",
      "157/157 [==============================] - 4s 22ms/step - loss: 2.1780 - accuracy: 0.1646 - val_loss: 2.0794 - val_accuracy: 0.2090\n",
      "Epoch 2/20\n",
      "157/157 [==============================] - 3s 20ms/step - loss: 1.8532 - accuracy: 0.3276 - val_loss: 1.7347 - val_accuracy: 0.3686\n",
      "Epoch 3/20\n",
      "157/157 [==============================] - 3s 21ms/step - loss: 1.6699 - accuracy: 0.3832 - val_loss: 1.7190 - val_accuracy: 0.3731\n",
      "Epoch 4/20\n",
      "157/157 [==============================] - 3s 22ms/step - loss: 1.5605 - accuracy: 0.4260 - val_loss: 1.6005 - val_accuracy: 0.4256\n",
      "Epoch 5/20\n",
      "157/157 [==============================] - 3s 22ms/step - loss: 1.4998 - accuracy: 0.4564 - val_loss: 1.6182 - val_accuracy: 0.4284\n",
      "Epoch 6/20\n",
      "157/157 [==============================] - 3s 22ms/step - loss: 1.4162 - accuracy: 0.4856 - val_loss: 1.4824 - val_accuracy: 0.4688\n",
      "Epoch 7/20\n",
      "157/157 [==============================] - 3s 22ms/step - loss: 1.3423 - accuracy: 0.5176 - val_loss: 1.4799 - val_accuracy: 0.4744\n",
      "Epoch 8/20\n",
      "157/157 [==============================] - 3s 21ms/step - loss: 1.2982 - accuracy: 0.5338 - val_loss: 1.3962 - val_accuracy: 0.4987\n",
      "Epoch 9/20\n",
      "157/157 [==============================] - 3s 21ms/step - loss: 1.2441 - accuracy: 0.5458 - val_loss: 1.3933 - val_accuracy: 0.4941\n",
      "Epoch 10/20\n",
      "157/157 [==============================] - 4s 23ms/step - loss: 1.2056 - accuracy: 0.5732 - val_loss: 1.4057 - val_accuracy: 0.4931\n",
      "Epoch 11/20\n",
      "157/157 [==============================] - 4s 23ms/step - loss: 1.1385 - accuracy: 0.5994 - val_loss: 1.3527 - val_accuracy: 0.5161\n",
      "Epoch 12/20\n",
      "157/157 [==============================] - 3s 22ms/step - loss: 1.1090 - accuracy: 0.6080 - val_loss: 1.3626 - val_accuracy: 0.5190\n",
      "Epoch 13/20\n",
      "157/157 [==============================] - 4s 23ms/step - loss: 1.0785 - accuracy: 0.6210 - val_loss: 1.3461 - val_accuracy: 0.5339\n",
      "Epoch 14/20\n",
      "157/157 [==============================] - 3s 21ms/step - loss: 1.0065 - accuracy: 0.6370 - val_loss: 1.3888 - val_accuracy: 0.5307\n",
      "Epoch 15/20\n",
      "157/157 [==============================] - 3s 22ms/step - loss: 0.9757 - accuracy: 0.6592 - val_loss: 1.3659 - val_accuracy: 0.5285\n",
      "Epoch 16/20\n",
      "157/157 [==============================] - 4s 23ms/step - loss: 0.9318 - accuracy: 0.6708 - val_loss: 1.3299 - val_accuracy: 0.5403\n",
      "Epoch 17/20\n",
      "157/157 [==============================] - 4s 23ms/step - loss: 0.8836 - accuracy: 0.6804 - val_loss: 1.3921 - val_accuracy: 0.5318\n",
      "Epoch 18/20\n",
      "157/157 [==============================] - 4s 23ms/step - loss: 0.8612 - accuracy: 0.6958 - val_loss: 1.3769 - val_accuracy: 0.5367\n",
      "Epoch 19/20\n",
      "157/157 [==============================] - 3s 22ms/step - loss: 0.7985 - accuracy: 0.7146 - val_loss: 1.3737 - val_accuracy: 0.5516\n",
      "Epoch 20/20\n",
      "157/157 [==============================] - 3s 20ms/step - loss: 0.7663 - accuracy: 0.7230 - val_loss: 1.3956 - val_accuracy: 0.5362\n",
      "313/313 [==============================] - 1s 4ms/step - loss: 1.3956 - accuracy: 0.5362\n",
      "Epoch 1/20\n",
      "157/157 [==============================] - 4s 22ms/step - loss: 2.0697 - accuracy: 0.2144 - val_loss: 1.8562 - val_accuracy: 0.3144\n",
      "Epoch 2/20\n",
      "157/157 [==============================] - 3s 22ms/step - loss: 1.8029 - accuracy: 0.3238 - val_loss: 1.7748 - val_accuracy: 0.3276\n",
      "Epoch 3/20\n",
      "157/157 [==============================] - 3s 22ms/step - loss: 1.6678 - accuracy: 0.3788 - val_loss: 1.5840 - val_accuracy: 0.4069\n",
      "Epoch 4/20\n",
      "157/157 [==============================] - 4s 23ms/step - loss: 1.5596 - accuracy: 0.4260 - val_loss: 1.4935 - val_accuracy: 0.4448\n",
      "Epoch 5/20\n",
      "157/157 [==============================] - 4s 22ms/step - loss: 1.4571 - accuracy: 0.4674 - val_loss: 1.4733 - val_accuracy: 0.4518\n",
      "Epoch 6/20\n",
      "157/157 [==============================] - 3s 22ms/step - loss: 1.3798 - accuracy: 0.4990 - val_loss: 1.4083 - val_accuracy: 0.4836\n",
      "Epoch 7/20\n",
      "157/157 [==============================] - 3s 20ms/step - loss: 1.3179 - accuracy: 0.5358 - val_loss: 1.4176 - val_accuracy: 0.4827\n",
      "Epoch 8/20\n",
      "157/157 [==============================] - 3s 22ms/step - loss: 1.2443 - accuracy: 0.5524 - val_loss: 1.3364 - val_accuracy: 0.5150\n",
      "Epoch 9/20\n",
      "157/157 [==============================] - 3s 21ms/step - loss: 1.2388 - accuracy: 0.5606 - val_loss: 1.3492 - val_accuracy: 0.5140\n",
      "Epoch 10/20\n",
      "157/157 [==============================] - 3s 21ms/step - loss: 1.1627 - accuracy: 0.5864 - val_loss: 1.3036 - val_accuracy: 0.5234\n",
      "Epoch 11/20\n",
      "157/157 [==============================] - 4s 22ms/step - loss: 1.1297 - accuracy: 0.5964 - val_loss: 1.3587 - val_accuracy: 0.5148\n",
      "Epoch 12/20\n",
      "157/157 [==============================] - 4s 22ms/step - loss: 1.0799 - accuracy: 0.6162 - val_loss: 1.2961 - val_accuracy: 0.5417\n",
      "Epoch 13/20\n",
      "157/157 [==============================] - 3s 20ms/step - loss: 1.0329 - accuracy: 0.6310 - val_loss: 1.3677 - val_accuracy: 0.5189\n",
      "Epoch 14/20\n",
      "157/157 [==============================] - 3s 22ms/step - loss: 0.9911 - accuracy: 0.6510 - val_loss: 1.2473 - val_accuracy: 0.5533\n",
      "Epoch 15/20\n",
      "157/157 [==============================] - 3s 22ms/step - loss: 0.9410 - accuracy: 0.6620 - val_loss: 1.2683 - val_accuracy: 0.5585\n",
      "Epoch 16/20\n",
      "157/157 [==============================] - 3s 22ms/step - loss: 0.9167 - accuracy: 0.6748 - val_loss: 1.3085 - val_accuracy: 0.5479\n",
      "Epoch 17/20\n",
      "157/157 [==============================] - 4s 22ms/step - loss: 0.8818 - accuracy: 0.6824 - val_loss: 1.2984 - val_accuracy: 0.5594\n",
      "Epoch 18/20\n",
      "157/157 [==============================] - 3s 21ms/step - loss: 0.8329 - accuracy: 0.7096 - val_loss: 1.3341 - val_accuracy: 0.5577\n",
      "Epoch 19/20\n",
      "157/157 [==============================] - 3s 21ms/step - loss: 0.7983 - accuracy: 0.7176 - val_loss: 1.3362 - val_accuracy: 0.5556\n",
      "Epoch 20/20\n",
      "157/157 [==============================] - 4s 23ms/step - loss: 0.7633 - accuracy: 0.7310 - val_loss: 1.2904 - val_accuracy: 0.5659\n",
      "313/313 [==============================] - 2s 6ms/step - loss: 1.2904 - accuracy: 0.5659\n",
      "Epoch 1/20\n",
      "157/157 [==============================] - 4s 21ms/step - loss: 2.0992 - accuracy: 0.1996 - val_loss: 1.8454 - val_accuracy: 0.3257\n",
      "Epoch 2/20\n",
      "157/157 [==============================] - 3s 22ms/step - loss: 1.8358 - accuracy: 0.3178 - val_loss: 1.7556 - val_accuracy: 0.3500\n",
      "Epoch 3/20\n",
      "157/157 [==============================] - 3s 22ms/step - loss: 1.6669 - accuracy: 0.3872 - val_loss: 1.5626 - val_accuracy: 0.4255\n",
      "Epoch 4/20\n",
      "157/157 [==============================] - 3s 21ms/step - loss: 1.5681 - accuracy: 0.4292 - val_loss: 1.5599 - val_accuracy: 0.4315\n",
      "Epoch 5/20\n",
      "157/157 [==============================] - 3s 21ms/step - loss: 1.4940 - accuracy: 0.4612 - val_loss: 1.4719 - val_accuracy: 0.4583\n",
      "Epoch 6/20\n",
      "157/157 [==============================] - 4s 23ms/step - loss: 1.4203 - accuracy: 0.4902 - val_loss: 1.4337 - val_accuracy: 0.4792\n",
      "Epoch 7/20\n",
      "157/157 [==============================] - 3s 21ms/step - loss: 1.3506 - accuracy: 0.5134 - val_loss: 1.3916 - val_accuracy: 0.4988\n",
      "Epoch 8/20\n",
      "157/157 [==============================] - 3s 20ms/step - loss: 1.3130 - accuracy: 0.5310 - val_loss: 1.4652 - val_accuracy: 0.4592\n",
      "Epoch 9/20\n",
      "157/157 [==============================] - 3s 22ms/step - loss: 1.2624 - accuracy: 0.5452 - val_loss: 1.4051 - val_accuracy: 0.4950\n",
      "Epoch 10/20\n",
      "157/157 [==============================] - 3s 21ms/step - loss: 1.2101 - accuracy: 0.5700 - val_loss: 1.3279 - val_accuracy: 0.5205\n",
      "Epoch 11/20\n",
      "157/157 [==============================] - 3s 19ms/step - loss: 1.1783 - accuracy: 0.5826 - val_loss: 1.3523 - val_accuracy: 0.5150\n",
      "Epoch 12/20\n",
      "157/157 [==============================] - 3s 21ms/step - loss: 1.1440 - accuracy: 0.5872 - val_loss: 1.3051 - val_accuracy: 0.5380\n",
      "Epoch 13/20\n",
      "157/157 [==============================] - 3s 22ms/step - loss: 1.0715 - accuracy: 0.6140 - val_loss: 1.2996 - val_accuracy: 0.5418\n",
      "Epoch 14/20\n",
      "157/157 [==============================] - 3s 22ms/step - loss: 1.0428 - accuracy: 0.6314 - val_loss: 1.2454 - val_accuracy: 0.5603\n",
      "Epoch 15/20\n",
      "157/157 [==============================] - 3s 21ms/step - loss: 1.0158 - accuracy: 0.6372 - val_loss: 1.3183 - val_accuracy: 0.5412\n",
      "Epoch 16/20\n",
      "157/157 [==============================] - 4s 23ms/step - loss: 1.0066 - accuracy: 0.6388 - val_loss: 1.2465 - val_accuracy: 0.5651\n",
      "Epoch 17/20\n",
      "157/157 [==============================] - 3s 22ms/step - loss: 0.9522 - accuracy: 0.6694 - val_loss: 1.2603 - val_accuracy: 0.5620\n",
      "Epoch 18/20\n",
      "157/157 [==============================] - 4s 22ms/step - loss: 0.9182 - accuracy: 0.6608 - val_loss: 1.2739 - val_accuracy: 0.5656\n",
      "Epoch 19/20\n",
      "157/157 [==============================] - 3s 22ms/step - loss: 0.9024 - accuracy: 0.6792 - val_loss: 1.2662 - val_accuracy: 0.5618\n",
      "Epoch 20/20\n",
      "157/157 [==============================] - 3s 22ms/step - loss: 0.8625 - accuracy: 0.6870 - val_loss: 1.2619 - val_accuracy: 0.5733\n",
      "313/313 [==============================] - 2s 5ms/step - loss: 1.2619 - accuracy: 0.5733\n",
      "Epoch 1/20\n",
      "157/157 [==============================] - 4s 22ms/step - loss: 2.2091 - accuracy: 0.1472 - val_loss: 2.0143 - val_accuracy: 0.2143\n",
      "Epoch 2/20\n",
      "157/157 [==============================] - 3s 22ms/step - loss: 1.9375 - accuracy: 0.2632 - val_loss: 1.9076 - val_accuracy: 0.2868\n",
      "Epoch 3/20\n",
      "157/157 [==============================] - 3s 22ms/step - loss: 1.7844 - accuracy: 0.3280 - val_loss: 1.7052 - val_accuracy: 0.3596\n",
      "Epoch 4/20\n",
      "157/157 [==============================] - 3s 22ms/step - loss: 1.6905 - accuracy: 0.3678 - val_loss: 1.5714 - val_accuracy: 0.4261\n",
      "Epoch 5/20\n",
      "157/157 [==============================] - 3s 22ms/step - loss: 1.5937 - accuracy: 0.4094 - val_loss: 1.5984 - val_accuracy: 0.4053\n",
      "Epoch 6/20\n",
      "157/157 [==============================] - 4s 24ms/step - loss: 1.5401 - accuracy: 0.4188 - val_loss: 1.5071 - val_accuracy: 0.4516\n",
      "Epoch 7/20\n",
      "157/157 [==============================] - 3s 22ms/step - loss: 1.4807 - accuracy: 0.4526 - val_loss: 1.4220 - val_accuracy: 0.4810\n",
      "Epoch 8/20\n",
      "157/157 [==============================] - 3s 22ms/step - loss: 1.4524 - accuracy: 0.4688 - val_loss: 1.4054 - val_accuracy: 0.4875\n",
      "Epoch 9/20\n",
      "157/157 [==============================] - 3s 22ms/step - loss: 1.4023 - accuracy: 0.4916 - val_loss: 1.3641 - val_accuracy: 0.5001\n",
      "Epoch 10/20\n",
      "157/157 [==============================] - 3s 22ms/step - loss: 1.3669 - accuracy: 0.5054 - val_loss: 1.3585 - val_accuracy: 0.5094\n",
      "Epoch 11/20\n",
      "157/157 [==============================] - 3s 22ms/step - loss: 1.3308 - accuracy: 0.5162 - val_loss: 1.3629 - val_accuracy: 0.4996\n",
      "Epoch 12/20\n",
      "157/157 [==============================] - 3s 21ms/step - loss: 1.2851 - accuracy: 0.5318 - val_loss: 1.3427 - val_accuracy: 0.5182\n",
      "Epoch 13/20\n",
      "157/157 [==============================] - 3s 22ms/step - loss: 1.2429 - accuracy: 0.5494 - val_loss: 1.3220 - val_accuracy: 0.5227\n",
      "Epoch 14/20\n",
      "157/157 [==============================] - 4s 23ms/step - loss: 1.2427 - accuracy: 0.5562 - val_loss: 1.2783 - val_accuracy: 0.5355\n",
      "Epoch 15/20\n",
      "157/157 [==============================] - 3s 21ms/step - loss: 1.1941 - accuracy: 0.5710 - val_loss: 1.2909 - val_accuracy: 0.5400\n",
      "Epoch 16/20\n",
      "157/157 [==============================] - 3s 22ms/step - loss: 1.1820 - accuracy: 0.5722 - val_loss: 1.3228 - val_accuracy: 0.5263\n",
      "Epoch 17/20\n",
      "157/157 [==============================] - 3s 22ms/step - loss: 1.1476 - accuracy: 0.5878 - val_loss: 1.2897 - val_accuracy: 0.5336\n",
      "Epoch 18/20\n",
      "157/157 [==============================] - 3s 22ms/step - loss: 1.1296 - accuracy: 0.5928 - val_loss: 1.2575 - val_accuracy: 0.5465\n",
      "Epoch 19/20\n",
      "157/157 [==============================] - 3s 22ms/step - loss: 1.0996 - accuracy: 0.6012 - val_loss: 1.2535 - val_accuracy: 0.5482\n",
      "Epoch 20/20\n",
      "157/157 [==============================] - 3s 22ms/step - loss: 1.0638 - accuracy: 0.6148 - val_loss: 1.2864 - val_accuracy: 0.5397\n",
      "313/313 [==============================] - 2s 5ms/step - loss: 1.2864 - accuracy: 0.5397\n",
      "Epoch 1/20\n",
      "157/157 [==============================] - 4s 22ms/step - loss: 2.2248 - accuracy: 0.1600 - val_loss: 2.1387 - val_accuracy: 0.1712\n",
      "Epoch 2/20\n",
      "157/157 [==============================] - 3s 22ms/step - loss: 2.0044 - accuracy: 0.2420 - val_loss: 1.8380 - val_accuracy: 0.3148\n",
      "Epoch 3/20\n",
      "157/157 [==============================] - 4s 23ms/step - loss: 1.8445 - accuracy: 0.3036 - val_loss: 1.7664 - val_accuracy: 0.3401\n",
      "Epoch 4/20\n",
      "157/157 [==============================] - 4s 23ms/step - loss: 1.7352 - accuracy: 0.3392 - val_loss: 1.7302 - val_accuracy: 0.3530\n",
      "Epoch 5/20\n",
      "157/157 [==============================] - 3s 22ms/step - loss: 1.7062 - accuracy: 0.3698 - val_loss: 1.6797 - val_accuracy: 0.3853\n",
      "Epoch 6/20\n",
      "157/157 [==============================] - 4s 23ms/step - loss: 1.6594 - accuracy: 0.3730 - val_loss: 1.5776 - val_accuracy: 0.4198\n",
      "Epoch 7/20\n",
      "157/157 [==============================] - 3s 22ms/step - loss: 1.5951 - accuracy: 0.4054 - val_loss: 1.5329 - val_accuracy: 0.4325\n",
      "Epoch 8/20\n",
      "157/157 [==============================] - 4s 23ms/step - loss: 1.5694 - accuracy: 0.4288 - val_loss: 1.4897 - val_accuracy: 0.4516\n",
      "Epoch 9/20\n",
      "157/157 [==============================] - 3s 21ms/step - loss: 1.5213 - accuracy: 0.4488 - val_loss: 1.4469 - val_accuracy: 0.4696\n",
      "Epoch 10/20\n",
      "157/157 [==============================] - 4s 22ms/step - loss: 1.4832 - accuracy: 0.4524 - val_loss: 1.4446 - val_accuracy: 0.4696\n",
      "Epoch 11/20\n",
      "157/157 [==============================] - 3s 22ms/step - loss: 1.4441 - accuracy: 0.4728 - val_loss: 1.3934 - val_accuracy: 0.4919\n",
      "Epoch 12/20\n",
      "157/157 [==============================] - 4s 23ms/step - loss: 1.4209 - accuracy: 0.4846 - val_loss: 1.3818 - val_accuracy: 0.4976\n",
      "Epoch 13/20\n",
      "157/157 [==============================] - 3s 22ms/step - loss: 1.3978 - accuracy: 0.4938 - val_loss: 1.3619 - val_accuracy: 0.4970\n",
      "Epoch 14/20\n",
      "157/157 [==============================] - 3s 22ms/step - loss: 1.3923 - accuracy: 0.4960 - val_loss: 1.3489 - val_accuracy: 0.5112\n",
      "Epoch 15/20\n",
      "157/157 [==============================] - 4s 23ms/step - loss: 1.3516 - accuracy: 0.5106 - val_loss: 1.3285 - val_accuracy: 0.5159\n",
      "Epoch 16/20\n",
      "157/157 [==============================] - 4s 23ms/step - loss: 1.3309 - accuracy: 0.5196 - val_loss: 1.3853 - val_accuracy: 0.4981\n",
      "Epoch 17/20\n",
      "157/157 [==============================] - 4s 23ms/step - loss: 1.3066 - accuracy: 0.5302 - val_loss: 1.3842 - val_accuracy: 0.4960\n",
      "Epoch 18/20\n",
      "157/157 [==============================] - 3s 22ms/step - loss: 1.3088 - accuracy: 0.5268 - val_loss: 1.4162 - val_accuracy: 0.4856\n",
      "Epoch 19/20\n",
      "157/157 [==============================] - 4s 23ms/step - loss: 1.3033 - accuracy: 0.5192 - val_loss: 1.3200 - val_accuracy: 0.5143\n",
      "Epoch 20/20\n",
      "157/157 [==============================] - 4s 23ms/step - loss: 1.2411 - accuracy: 0.5450 - val_loss: 1.2796 - val_accuracy: 0.5354\n",
      "313/313 [==============================] - 2s 6ms/step - loss: 1.2796 - accuracy: 0.5354\n"
     ]
    }
   ],
   "source": [
    "dropout_rates = [0.15, 0.3, 0.45, 0.6, 0.75]\n",
    "test_losses = []\n",
    "for dropout_rate in dropout_rates:\n",
    "    inputs = keras.Input(shape=train_images.shape[1:])\n",
    "    x = keras.layers.Conv2D(50, (3, 3), activation='relu')(inputs)\n",
    "    x = keras.layers.MaxPooling2D((2, 2))(x)\n",
    "    x = keras.layers.Conv2D(50, (3, 3), activation='relu')(x)\n",
    "    x = keras.layers.MaxPooling2D((2, 2))(x)\n",
    "    x = keras.layers.Conv2D(50, (3, 3), activation='relu')(x)\n",
    "    x = keras.layers.Dropout(dropout_rate)(x)\n",
    "    x = keras.layers.Flatten()(x)\n",
    "    x = keras.layers.Dense(50, activation='relu')(x)\n",
    "    outputs = keras.layers.Dense(10)(x)\n",
    "    \n",
    "    model_dropout = keras.Model(inputs=inputs, outputs=outputs, name=\"cifar_model\")\n",
    "\n",
    "    model_dropout.compile(optimizer='adam',\n",
    "              loss=keras.losses.SparseCategoricalCrossentropy(from_logits=True),\n",
    "              metrics=['accuracy'])\n",
    "\n",
    "    model_dropout.fit(train_images, train_labels, epochs=20,\n",
    "                    validation_data=(test_images, test_labels))\n",
    "\n",
    "    test_loss, test_acc = model_dropout.evaluate(test_images,  test_labels)\n",
    "    test_losses.append(test_loss)\n",
    "    "
   ]
  },
  {
   "cell_type": "code",
   "execution_count": 40,
   "id": "9378f030-c0bc-4c8a-9e4d-e5742fe359ac",
   "metadata": {},
   "outputs": [],
   "source": [
    "loss_df = pd.DataFrame({'dropout_rate': dropout_rates, 'test_loss': test_losses})"
   ]
  },
  {
   "cell_type": "code",
   "execution_count": 41,
   "id": "b1ffd797-880f-4ad9-a949-0adb084e152a",
   "metadata": {},
   "outputs": [
    {
     "data": {
      "text/plain": [
       "<AxesSubplot:xlabel='dropout_rate', ylabel='test_loss'>"
      ]
     },
     "execution_count": 41,
     "metadata": {},
     "output_type": "execute_result"
    },
    {
     "data": {
      "image/png": "[encoded data removed]",
      "text/plain": [
       "<Figure size 432x288 with 1 Axes>"
      ]
     },
     "metadata": {
      "needs_background": "light"
     },
     "output_type": "display_data"
    }
   ],
   "source": [
    "sns.lineplot(data=loss_df, x='dropout_rate', y='test_loss')"
   ]
  },
  {
   "cell_type": "code",
   "execution_count": null,
   "id": "03fc067c-3a81-478c-9e0f-1a04e3c61f41",
   "metadata": {},
   "outputs": [],
   "source": []
  }
 ],
 "metadata": {
  "kernelspec": {
   "display_name": "Python 3 (ipykernel)",
   "language": "python",
   "name": "python3"
  },
  "language_info": {
   "codemirror_mode": {
    "name": "ipython",
    "version": 3
   },
   "file_extension": ".py",
   "mimetype": "text/x-python",
   "name": "python",
   "nbconvert_exporter": "python",
   "pygments_lexer": "ipython3",
   "version": "3.9.0"
  }
 },
 "nbformat": 4,
 "nbformat_minor": 5
}
